{
 "cells": [
  {
   "cell_type": "markdown",
   "metadata": {},
   "source": [
    "### Science direfct htmls to pdf"
   ]
  },
  {
   "cell_type": "code",
   "execution_count": 1,
   "metadata": {},
   "outputs": [
    {
     "ename": "ModuleNotFoundError",
     "evalue": "No module named 'fpdf'",
     "output_type": "error",
     "traceback": [
      "\u001b[1;31m---------------------------------------------------------------------------\u001b[0m",
      "\u001b[1;31mModuleNotFoundError\u001b[0m                       Traceback (most recent call last)",
      "Cell \u001b[1;32mIn[1], line 3\u001b[0m\n\u001b[0;32m      1\u001b[0m \u001b[38;5;28;01mimport\u001b[39;00m \u001b[38;5;21;01mos\u001b[39;00m\n\u001b[0;32m      2\u001b[0m \u001b[38;5;28;01mfrom\u001b[39;00m \u001b[38;5;21;01mbs4\u001b[39;00m \u001b[38;5;28;01mimport\u001b[39;00m BeautifulSoup\n\u001b[1;32m----> 3\u001b[0m \u001b[38;5;28;01mfrom\u001b[39;00m \u001b[38;5;21;01mfpdf\u001b[39;00m \u001b[38;5;28;01mimport\u001b[39;00m FPDF\n\u001b[0;32m      4\u001b[0m \u001b[38;5;28;01mimport\u001b[39;00m \u001b[38;5;21;01mhtml2text\u001b[39;00m\n\u001b[0;32m      5\u001b[0m \u001b[38;5;28;01mimport\u001b[39;00m \u001b[38;5;21;01mre\u001b[39;00m\n",
      "\u001b[1;31mModuleNotFoundError\u001b[0m: No module named 'fpdf'"
     ]
    }
   ],
   "source": [
    "import os\n",
    "from bs4 import BeautifulSoup\n",
    "from fpdf import FPDF\n",
    "import html2text\n",
    "import re\n",
    "\n",
    "def clean_text(text):\n",
    "    # Remove multiple newlines and spaces\n",
    "    text = re.sub(r'\\n\\s*\\n', '\\n\\n', text)\n",
    "    text = re.sub(r' +', ' ', text)\n",
    "    return text.strip()\n",
    "\n",
    "def html_to_pdf(html_file, output_pdf):\n",
    "    # Read HTML file\n",
    "    with open(html_file, 'r', encoding='utf-8') as file:\n",
    "        html_content = file.read()\n",
    "\n",
    "    # Parse HTML\n",
    "    soup = BeautifulSoup(html_content, 'html.parser')\n",
    "    \n",
    "    # Remove script and style elements\n",
    "    for script in soup([\"script\", \"style\"]):\n",
    "        script.decompose()\n",
    "\n",
    "    # Convert HTML to plain text\n",
    "    h = html2text.HTML2Text()\n",
    "    h.ignore_links = True\n",
    "    h.ignore_images = True\n",
    "    text = h.handle(str(soup))\n",
    "    \n",
    "    # Clean the text\n",
    "    text = clean_text(text)\n",
    "\n",
    "    # Create PDF\n",
    "    pdf = FPDF()\n",
    "    pdf.add_page()\n",
    "    pdf.set_auto_page_break(auto=True, margin=15)\n",
    "    \n",
    "    # Set font\n",
    "    pdf.set_font(\"Arial\", size=11)\n",
    "    \n",
    "    # Add text to PDF\n",
    "    # Split text into lines to avoid overflow\n",
    "    lines = text.split('\\n')\n",
    "    for line in lines:\n",
    "        if line.strip():  # Only add non-empty lines\n",
    "            # Encode to handle special characters\n",
    "            try:\n",
    "                pdf.multi_cell(0, 5, txt=line.encode('latin-1', 'replace').decode('latin-1'))\n",
    "            except:\n",
    "                # If encoding fails, try to clean the text further\n",
    "                clean_line = ''.join(char for char in line if ord(char) < 128)\n",
    "                pdf.multi_cell(0, 5, txt=clean_line)\n",
    "\n",
    "    # Save PDF\n",
    "    pdf.output(output_pdf)\n",
    "\n",
    "def process_html_files(input_directory, output_directory):\n",
    "    # Create output directory if it doesn't exist\n",
    "    if not os.path.exists(output_directory):\n",
    "        os.makedirs(output_directory)\n",
    "    \n",
    "    # Process all HTML files in the input directory\n",
    "    for filename in os.listdir(input_directory):\n",
    "        if filename.endswith('.html'):\n",
    "            html_path = os.path.join(input_directory, filename)\n",
    "            pdf_path = os.path.join(output_directory, filename.replace('.html', '.pdf'))\n",
    "            print(f\"Converting {filename} to PDF...\")\n",
    "            try:\n",
    "                html_to_pdf(html_path, pdf_path)\n",
    "                print(f\"Successfully created {pdf_path}\")\n",
    "            except Exception as e:\n",
    "                print(f\"Error processing {filename}: {str(e)}\")\n",
    "\n",
    "# Example usage\n",
    "if __name__ == \"__main__\":\n",
    "    input_dir = \"Sc\" # Directory containing HTML files\n",
    "    output_dir = \"pdf_files\"  # Directory for output PDFs\n",
    "    process_html_files(input_dir, output_dir)"
   ]
  }
 ],
 "metadata": {
  "kernelspec": {
   "display_name": "Python 3",
   "language": "python",
   "name": "python3"
  },
  "language_info": {
   "codemirror_mode": {
    "name": "ipython",
    "version": 3
   },
   "file_extension": ".py",
   "mimetype": "text/x-python",
   "name": "python",
   "nbconvert_exporter": "python",
   "pygments_lexer": "ipython3",
   "version": "3.12.1"
  }
 },
 "nbformat": 4,
 "nbformat_minor": 2
}
