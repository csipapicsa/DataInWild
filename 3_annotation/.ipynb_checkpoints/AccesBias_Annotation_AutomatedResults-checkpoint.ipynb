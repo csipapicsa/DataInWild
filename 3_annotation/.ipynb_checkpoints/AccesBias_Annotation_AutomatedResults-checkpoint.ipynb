{
 "cells": [
  {
   "cell_type": "code",
   "execution_count": 1,
   "id": "bc123596",
   "metadata": {
    "scrolled": true
   },
   "outputs": [
    {
     "data": {
      "text/plain": [
       "(14518, 5)"
      ]
     },
     "execution_count": 1,
     "metadata": {},
     "output_type": "execute_result"
    }
   ],
   "source": [
    "import pandas as pd\n",
    "\n",
    "Anger_data = pd.read_csv('face_analysis_results_anger.csv')\n",
    "Contempt_data = pd.read_csv('face_analysis_results_contempt.csv')\n",
    "Disgust_data = pd.read_csv('face_analysis_results_disgust.csv')\n",
    "Fear_data = pd.read_csv('face_analysis_results_fear.csv')\n",
    "Happy_data = pd.read_csv('face_analysis_results_happy.csv')\n",
    "Neutral_data = pd.read_csv('face_analysis_results_neutral.csv')\n",
    "Sad_data = pd.read_csv('face_analysis_results_sad.csv')\n",
    "Surprise_data = pd.read_csv('face_analysis_results_surprise.csv')\n",
    "\n",
    "Automated_data = pd.concat([\n",
    "    Anger_data, \n",
    "    Contempt_data, \n",
    "    Disgust_data, \n",
    "    Fear_data, \n",
    "    Happy_data, \n",
    "    Neutral_data, \n",
    "    Sad_data, \n",
    "    Surprise_data\n",
    "], ignore_index=True)\n",
    "\n",
    "\n",
    "# Save the combined DataFrame to a new CSV file\n",
    "Automated_data.to_csv('combined_face_analysis_results.csv', index=False)\n",
    "Automated_data.shape"
   ]
  },
  {
   "cell_type": "code",
   "execution_count": 3,
   "id": "ffae0a2e",
   "metadata": {
    "scrolled": false
   },
   "outputs": [
    {
     "data": {
      "text/html": [
       "<div>\n",
       "<style scoped>\n",
       "    .dataframe tbody tr th:only-of-type {\n",
       "        vertical-align: middle;\n",
       "    }\n",
       "\n",
       "    .dataframe tbody tr th {\n",
       "        vertical-align: top;\n",
       "    }\n",
       "\n",
       "    .dataframe thead th {\n",
       "        text-align: right;\n",
       "    }\n",
       "</style>\n",
       "<table border=\"1\" class=\"dataframe\">\n",
       "  <thead>\n",
       "    <tr style=\"text-align: right;\">\n",
       "      <th></th>\n",
       "      <th>Image</th>\n",
       "      <th>Age</th>\n",
       "      <th>Gender</th>\n",
       "      <th>Race</th>\n",
       "      <th>Emotion</th>\n",
       "      <th>Age Group</th>\n",
       "    </tr>\n",
       "  </thead>\n",
       "  <tbody>\n",
       "    <tr>\n",
       "      <th>0</th>\n",
       "      <td>anger_-_image0000006.jpg</td>\n",
       "      <td>30</td>\n",
       "      <td>Woman</td>\n",
       "      <td>white</td>\n",
       "      <td>neutral</td>\n",
       "      <td>middle-aged (30-49)</td>\n",
       "    </tr>\n",
       "    <tr>\n",
       "      <th>1</th>\n",
       "      <td>anger_-_image0000060.jpg</td>\n",
       "      <td>34</td>\n",
       "      <td>Man</td>\n",
       "      <td>white</td>\n",
       "      <td>neutral</td>\n",
       "      <td>middle-aged (30-49)</td>\n",
       "    </tr>\n",
       "    <tr>\n",
       "      <th>2</th>\n",
       "      <td>anger_-_image0000061.jpg</td>\n",
       "      <td>44</td>\n",
       "      <td>Man</td>\n",
       "      <td>white</td>\n",
       "      <td>happy</td>\n",
       "      <td>middle-aged (30-49)</td>\n",
       "    </tr>\n",
       "    <tr>\n",
       "      <th>3</th>\n",
       "      <td>anger_-_image0000066.jpg</td>\n",
       "      <td>49</td>\n",
       "      <td>Man</td>\n",
       "      <td>white</td>\n",
       "      <td>sad</td>\n",
       "      <td>middle-aged (30-49)</td>\n",
       "    </tr>\n",
       "    <tr>\n",
       "      <th>4</th>\n",
       "      <td>anger_-_image0000106.jpg</td>\n",
       "      <td>30</td>\n",
       "      <td>Man</td>\n",
       "      <td>black</td>\n",
       "      <td>angry</td>\n",
       "      <td>middle-aged (30-49)</td>\n",
       "    </tr>\n",
       "  </tbody>\n",
       "</table>\n",
       "</div>"
      ],
      "text/plain": [
       "                      Image  Age Gender   Race  Emotion            Age Group\n",
       "0  anger_-_image0000006.jpg   30  Woman  white  neutral  middle-aged (30-49)\n",
       "1  anger_-_image0000060.jpg   34    Man  white  neutral  middle-aged (30-49)\n",
       "2  anger_-_image0000061.jpg   44    Man  white    happy  middle-aged (30-49)\n",
       "3  anger_-_image0000066.jpg   49    Man  white      sad  middle-aged (30-49)\n",
       "4  anger_-_image0000106.jpg   30    Man  black    angry  middle-aged (30-49)"
      ]
     },
     "execution_count": 3,
     "metadata": {},
     "output_type": "execute_result"
    }
   ],
   "source": [
    "import pandas as pd\n",
    "\n",
    "# Assuming 'combined_data' is your DataFrame with an 'Age' column\n",
    "# Define age bins and labels\n",
    "bins = [-1, 1, 9, 19, 29, 49, 65, float('inf')]\n",
    "labels = [\n",
    "    'baby (0-1)',\n",
    "    'child (1-9)',\n",
    "    'adolescent (10-19)',\n",
    "    'young adult (20-29)',\n",
    "    'middle-aged (30-49)',\n",
    "    'older adult (50-65)',\n",
    "    'elderly (65+)'\n",
    "]\n",
    "\n",
    "# Use pd.cut() to categorize ages into bins\n",
    "Automated_data['Age Group'] = pd.cut(Automated_data['Age'], bins=bins, labels=labels)\n",
    "\n",
    "# Save the updated DataFrame to a new CSV file if needed\n",
    "Automated_data.to_csv('combined_face_analysis_with_age_groups.csv', index=False)\n",
    "\n",
    "Automated_data.head()"
   ]
  },
  {
   "cell_type": "code",
   "execution_count": 13,
   "id": "a665f514",
   "metadata": {
    "scrolled": false
   },
   "outputs": [
    {
     "name": "stdout",
     "output_type": "stream",
     "text": [
      "Gender Distribution:\n",
      "Man      9526\n",
      "Woman    4992\n",
      "Name: Gender, dtype: int64\n",
      "\n",
      "Race (Ethnicity) Distribution:\n",
      "white              7890\n",
      "asian              2251\n",
      "latino hispanic    1783\n",
      "middle eastern     1194\n",
      "black              1058\n",
      "indian              342\n",
      "Name: Race, dtype: int64\n",
      "\n",
      "Age Group Distribution:\n",
      "count                   14518\n",
      "unique                      5\n",
      "top       middle-aged (30-49)\n",
      "freq                     8384\n",
      "Name: Age Group, dtype: object\n"
     ]
    },
    {
     "data": {
      "image/png": "[encoded data removed]",
      "text/plain": [
       "<Figure size 600x400 with 1 Axes>"
      ]
     },
     "metadata": {},
     "output_type": "display_data"
    },
    {
     "data": {
      "image/png": "[encoded data removed]",
      "text/plain": [
       "<Figure size 800x500 with 1 Axes>"
      ]
     },
     "metadata": {},
     "output_type": "display_data"
    },
    {
     "data": {
      "image/png": "[encoded data removed]",
      "text/plain": [
       "<Figure size 600x400 with 1 Axes>"
      ]
     },
     "metadata": {},
     "output_type": "display_data"
    },
    {
     "name": "stdout",
     "output_type": "stream",
     "text": [
      "\n",
      "Gender Bias (Percentage):\n",
      "Man      65.615098\n",
      "Woman    34.384902\n",
      "Name: Gender, dtype: float64\n",
      "\n",
      "Race Bias (Percentage):\n",
      "white              54.346329\n",
      "asian              15.504890\n",
      "latino hispanic    12.281306\n",
      "middle eastern      8.224273\n",
      "black               7.287505\n",
      "indian              2.355696\n",
      "Name: Race, dtype: float64\n",
      "Age Group Distribution (Percentage):\n",
      "middle-aged (30-49)    57.749001\n",
      "young adult (20-29)    36.678606\n",
      "older adult (50-65)     3.354457\n",
      "adolescent (10-19)      2.135280\n",
      "elderly (65+)           0.082656\n",
      "baby (0-1)              0.000000\n",
      "child (1-9)             0.000000\n",
      "Name: Age Group, dtype: float64\n"
     ]
    }
   ],
   "source": [
    "import pandas as pd\n",
    "import matplotlib.pyplot as plt\n",
    "\n",
    "combined_data=Automated_data\n",
    "\n",
    "# Display basic statistics for gender, race, and age\n",
    "print(\"Gender Distribution:\")\n",
    "print(combined_data['Gender'].value_counts())\n",
    "\n",
    "print(\"\\nRace (Ethnicity) Distribution:\")\n",
    "print(combined_data['Race'].value_counts())\n",
    "\n",
    "print(\"\\nAge Group Distribution:\")\n",
    "print(combined_data['Age Group'].describe())\n",
    "\n",
    "# Create a bar plot for gender distribution\n",
    "plt.figure(figsize=(6, 4))\n",
    "combined_data['Gender'].value_counts().plot(kind='barh', color=['black', 'orange'])\n",
    "plt.title('Gender Distribution')\n",
    "plt.xlabel('Gender')\n",
    "plt.ylabel('Count')\n",
    "plt.xticks(rotation=0)\n",
    "plt.show()\n",
    "\n",
    "# Create a bar plot for race distribution\n",
    "plt.figure(figsize=(8, 5))\n",
    "combined_data['Race'].value_counts().plot(kind='barh', color='gray')\n",
    "plt.title('Race (Ethnicity) Distribution')\n",
    "plt.xlabel('Race')\n",
    "plt.ylabel('Count')\n",
    "#plt.xticks(rotation=45)\n",
    "plt.show()\n",
    "\n",
    "# Create a histogram for age distribution\n",
    "plt.figure(figsize=(6, 4))\n",
    "combined_data['Age Group'].value_counts().plot(kind='barh', color='gray')\n",
    "plt.title('Age Distribution')\n",
    "plt.xlabel('Age Group')\n",
    "plt.ylabel('Count')\n",
    "#plt.xticks(rotation=45)\n",
    "plt.show()\n",
    "\n",
    "# Additional Statistics for Bias Assessment\n",
    "# Calculate gender bias: percentage of male vs. female\n",
    "gender_counts = combined_data['Gender'].value_counts(normalize=True) * 100\n",
    "print(\"\\nGender Bias (Percentage):\")\n",
    "print(gender_counts)\n",
    "\n",
    "# Calculate race bias: percentage distribution for each race\n",
    "race_counts = combined_data['Race'].value_counts(normalize=True) * 100\n",
    "print(\"\\nRace Bias (Percentage):\")\n",
    "print(race_counts)\n",
    "\n",
    "age_group_counts = combined_data['Age Group'].value_counts(normalize=True) * 100\n",
    "\n",
    "# Display the percentage distribution of each age group\n",
    "print(\"Age Group Distribution (Percentage):\")\n",
    "print(age_group_counts)\n"
   ]
  },
  {
   "cell_type": "markdown",
   "id": "3072dc5f",
   "metadata": {},
   "source": [
    "# What is the accuracy?"
   ]
  },
  {
   "cell_type": "code",
   "execution_count": null,
   "id": "03c43689",
   "metadata": {
    "scrolled": false
   },
   "outputs": [],
   "source": [
    "# List of DataFrames to merge\n",
    "dfs = [annot1_data, annot2_data, Test_data]\n",
    "\n",
    "# Merge all DataFrames on 'Image' using reduce and pd.merge\n",
    "merged_data = reduce(lambda left, right: pd.merge(left, right, on='Image'), dfs)\n",
    "\n",
    "# Optionally, save the merged data to a new CSV file\n",
    "merged_data.to_csv('merged_annotations_and_analysis.csv', index=False)\n",
    "\n",
    "# Rename columns for clarity\n",
    "merged_data = merged_data.rename(columns={\n",
    "    'Age_x': 'Age_manual_1',\n",
    "    'Gender_x': 'Gender_manual_1',\n",
    "    'Race_x': 'Race_manual_1',\n",
    "    'Annotation_by_x': 'Annotation_by_manual_1',\n",
    "    'Age_y': 'Age_manual_2',\n",
    "    'Gender_y': 'Gender_manual_2',\n",
    "    'Race_y': 'Race_manual_2',\n",
    "    'Annotation_by_y': 'Annotation_by_manual_2',\n",
    "    'Age': 'Age_automatic',\n",
    "    'Gender': 'Gender_automatic',\n",
    "    'Race': 'Race_automatic'\n",
    "})\n",
    "\n",
    "# Define a function to create age groups\n",
    "def create_age_group(age):\n",
    "    if age < 20:\n",
    "        return '0-19'\n",
    "    elif 20 <= age < 30:\n",
    "        return '20-29'\n",
    "    elif 30 <= age < 40:\n",
    "        return '30-39'\n",
    "    elif 40 <= age < 50:\n",
    "        return '40-49'\n",
    "    elif 50 <= age < 60:\n",
    "        return '50-59'\n",
    "    else:\n",
    "        return '60+'\n",
    "\n",
    "# Apply the age group function to all age columns (manual and automatic)\n",
    "merged_data['Age_group_manual_1'] = merged_data['Age_manual_1'].apply(create_age_group)\n",
    "merged_data['Age_group_manual_2'] = merged_data['Age_manual_2'].apply(create_age_group)\n",
    "merged_data['Age_group_automatic'] = merged_data['Age_automatic'].apply(create_age_group)\n",
    "\n",
    "merged_data"
   ]
  },
  {
   "cell_type": "code",
   "execution_count": null,
   "id": "cd92e59b",
   "metadata": {},
   "outputs": [],
   "source": []
  },
  {
   "cell_type": "markdown",
   "id": "16d427c1",
   "metadata": {},
   "source": [
    "# 1. (Dis)agreement Metrics:\n",
    "We’ll calculate the agreement between the two manual annotations and the automatic annotations for Gender, Race, and Age.\n",
    "\n",
    "Gender Agreement:\n",
    "- Manual 1 vs Automatic\n",
    "- Manual 2 vs Automatic\n",
    "\n",
    "Race Agreement:\n",
    "- Manual 1 vs Automatic\n",
    "- Manual 2 vs Automatic"
   ]
  },
  {
   "cell_type": "code",
   "execution_count": null,
   "id": "6a6bc517",
   "metadata": {},
   "outputs": [],
   "source": [
    "# Gender agreement between Manual 1 and Automatic\n",
    "gender_agreement_manual1_automatic = (merged_data['Gender_manual_1'] == merged_data['Gender_automatic']).mean() * 100\n",
    "\n",
    "# Gender agreement between Manual 2 and Automatic\n",
    "gender_agreement_manual2_automatic = (merged_data['Gender_manual_2'] == merged_data['Gender_automatic']).mean() * 100\n",
    "\n",
    "print(f\"Gender Agreement between Manual 1 and Automatic: {gender_agreement_manual1_automatic}%\")\n",
    "print(f\"Gender Agreement between Manual 2 and Automatic: {gender_agreement_manual2_automatic}%\")\n",
    "\n",
    "# Race agreement between Manual 1 and Automatic\n",
    "race_agreement_manual1_automatic = (merged_data['Race_manual_1'] == merged_data['Race_automatic']).mean() * 100\n",
    "\n",
    "# Race agreement between Manual 2 and Automatic\n",
    "race_agreement_manual2_automatic = (merged_data['Race_manual_2'] == merged_data['Race_automatic']).mean() * 100\n",
    "\n",
    "print(f\"Race Agreement between Manual 1 and Automatic: {race_agreement_manual1_automatic}%\")\n",
    "print(f\"Race Agreement between Manual 2 and Automatic: {race_agreement_manual2_automatic}%\")\n",
    "\n",
    "# Calculate agreement between Manual 1 and Automatic for Age Groups\n",
    "age_group_agreement_manual1_automatic = (merged_data['Age_group_manual_1'] == merged_data['Age_group_automatic']).mean() * 100\n",
    "\n",
    "# Calculate agreement between Manual 2 and Automatic for Age Groups\n",
    "age_group_agreement_manual2_automatic = (merged_data['Age_group_manual_2'] == merged_data['Age_group_automatic']).mean() * 100\n",
    "\n",
    "# Calculate agreement between Manual 1 and Manual 2 for Age Groups\n",
    "age_group_agreement_manual1_manual2 = (merged_data['Age_group_manual_1'] == merged_data['Age_group_manual_2']).mean() * 100\n",
    "\n",
    "# Display the results\n",
    "print(f\"Age Group Agreement between Manual 1 and Automatic: {age_group_agreement_manual1_automatic}%\")\n",
    "print(f\"Age Group Agreement between Manual 2 and Automatic: {age_group_agreement_manual2_automatic}%\")\n",
    "print(f\"Age Group Agreement between Manual 1 and Manual 2: {age_group_agreement_manual1_manual2}%\")\n"
   ]
  },
  {
   "cell_type": "markdown",
   "id": "ceca6bd9",
   "metadata": {},
   "source": [
    "# 2. Bias Detection:\n",
    "To investigate bias, we can check if certain races are consistently over/underpredicted compared to manual annotations. "
   ]
  },
  {
   "cell_type": "code",
   "execution_count": null,
   "id": "2979366c",
   "metadata": {},
   "outputs": [],
   "source": [
    "# Bias in Race predictions (Manual 1 vs Automatic)\n",
    "race_bias_manual1_automatic = merged_data.groupby(['Race_manual_1', 'Race_automatic']).size().unstack(fill_value=0)\n",
    "print(\"Race Bias (Manual 1 vs Automatic):\")\n",
    "print(race_bias_manual1_automatic)\n",
    "\n",
    "# Bias in Race predictions (Manual 2 vs Automatic)\n",
    "race_bias_manual2_automatic = merged_data.groupby(['Race_manual_2', 'Race_automatic']).size().unstack(fill_value=0)\n",
    "print(\"Race Bias (Manual 2 vs Automatic):\")\n",
    "print(race_bias_manual2_automatic)"
   ]
  },
  {
   "cell_type": "markdown",
   "id": "89b961e2",
   "metadata": {},
   "source": [
    "# 3. Agreement Metrics by Category:\n",
    "You can calculate agreement by category (e.g., by Gender or Race) to see how well the automatic system agrees with manual annotations in specific subgroups.\n",
    "\n",
    "Agreement by Gender:"
   ]
  },
  {
   "cell_type": "code",
   "execution_count": null,
   "id": "8609aee5",
   "metadata": {},
   "outputs": [],
   "source": [
    "# Agreement by Gender (Manual 1 vs Automatic)\n",
    "gender_group_agreement_manual1 = merged_data.groupby('Gender_manual_1').apply(\n",
    "    lambda x: (x['Gender_manual_1'] == x['Gender_automatic']).mean() * 100)\n",
    "\n",
    "# Agreement by Gender (Manual 2 vs Automatic)\n",
    "gender_group_agreement_manual2 = merged_data.groupby('Gender_manual_2').apply(\n",
    "    lambda x: (x['Gender_manual_2'] == x['Gender_automatic']).mean() * 100)\n",
    "\n",
    "print(\"Gender Agreement by Gender (Manual 1 vs Automatic):\")\n",
    "print(gender_group_agreement_manual1)\n",
    "\n",
    "print(\"Gender Agreement by Gender (Manual 2 vs Automatic):\")\n",
    "print(gender_group_agreement_manual2)\n"
   ]
  },
  {
   "cell_type": "code",
   "execution_count": null,
   "id": "69d535bb",
   "metadata": {},
   "outputs": [],
   "source": [
    "# Agreement by Race (Manual 1 vs Automatic)\n",
    "race_group_agreement_manual1 = merged_data.groupby('Race_manual_1').apply(\n",
    "    lambda x: (x['Race_manual_1'] == x['Race_automatic']).mean() * 100)\n",
    "\n",
    "# Agreement by Race (Manual 2 vs Automatic)\n",
    "race_group_agreement_manual2 = merged_data.groupby('Race_manual_2').apply(\n",
    "    lambda x: (x['Race_manual_2'] == x['Race_automatic']).mean() * 100)\n",
    "\n",
    "print(\"Race Agreement by Race (Manual 1 vs Automatic):\")\n",
    "print(race_group_agreement_manual1)\n",
    "\n",
    "print(\"Race Agreement by Race (Manual 2 vs Automatic):\")\n",
    "print(race_group_agreement_manual2)\n"
   ]
  },
  {
   "cell_type": "markdown",
   "id": "29dededd",
   "metadata": {},
   "source": [
    "# 4. Overall Metrics:\n",
    "To compute the overall accuracy between manual annotations and automatic predictions:"
   ]
  },
  {
   "cell_type": "code",
   "execution_count": null,
   "id": "c6c2ced0",
   "metadata": {},
   "outputs": [],
   "source": [
    "# Overall accuracy for Gender and Race (Manual 1 vs Automatic)\n",
    "overall_accuracy_manual1 = ((merged_data['Gender_manual_1'] == merged_data['Gender_automatic']) & \n",
    "                            (merged_data['Race_manual_1'] == merged_data['Race_automatic'])).mean() * 100\n",
    "\n",
    "# Overall accuracy for Gender and Race (Manual 2 vs Automatic)\n",
    "overall_accuracy_manual2 = ((merged_data['Gender_manual_2'] == merged_data['Gender_automatic']) & \n",
    "                            (merged_data['Race_manual_2'] == merged_data['Race_automatic'])).mean() * 100\n",
    "\n",
    "print(f\"Overall Accuracy (Manual 1 vs Automatic): {overall_accuracy_manual1}%\")\n",
    "print(f\"Overall Accuracy (Manual 2 vs Automatic): {overall_accuracy_manual2}%\")\n"
   ]
  },
  {
   "cell_type": "markdown",
   "id": "543b5f9c",
   "metadata": {},
   "source": [
    "#  5. Inter-Annotator Agreement (IAA):\n",
    "**Inter-annotator agreement (IAA)** is a general term referring to how much multiple annotators agree on their annotations. It measures the consistency between human annotators. The **Cohen’s Kappa score** is one way to compute inter-annotator agreement, but other methods like **Fleiss' Kappa** or **Krippendorff’s alpha** are also used for multi-annotator setups.\n",
    "\n",
    "\n",
    "\n",
    "\n",
    "## 5. Cohen's Kappa:\n",
    "\n",
    "\n",
    "The **Kappa score (Cohen's Kappa)** is a statistical measure used to evaluate the level of agreement between two annotators or classifiers, taking into account the possibility of agreement occurring by chance. It’s often used to assess the reliability of categorical data annotations.\n",
    "\n",
    "### Cohen's Kappa Formula:\n",
    "$$\n",
    "\\kappa = \\frac{P_o - P_e}{1 - P_e}\n",
    "$$\n",
    "\n",
    "- $P_o$: The observed agreement (the percentage of times the annotators agreed).\n",
    "- $P_e$: The expected agreement by chance (the percentage of agreement you would expect by random chance).\n",
    "\n",
    "### Cohen's Kappa Score Interpretation:\n",
    "- **1.0**: Perfect agreement.\n",
    "- **0.8 to 1.0**: Almost perfect agreement.\n",
    "- **0.6 to 0.8**: Substantial agreement.\n",
    "- **0.4 to 0.6**: Moderate agreement.\n",
    "- **0.2 to 0.4**: Fair agreement.\n",
    "- **0.0 to 0.2**: Slight agreement.\n",
    "- **<0.0**: Less than chance agreement (negative kappa).\n"
   ]
  },
  {
   "cell_type": "code",
   "execution_count": null,
   "id": "0f29da2c",
   "metadata": {},
   "outputs": [],
   "source": [
    "from sklearn.metrics import cohen_kappa_score\n",
    "\n",
    "# Calculate Cohen's Kappa for Age Group between Manual 1 and Automatic\n",
    "kappa_manual1_automatic = cohen_kappa_score(merged_data['Age_group_manual_1'], merged_data['Age_group_automatic'])\n",
    "\n",
    "# Calculate Cohen's Kappa for Age Group between Manual 2 and Automatic\n",
    "kappa_manual2_automatic = cohen_kappa_score(merged_data['Age_group_manual_2'], merged_data['Age_group_automatic'])\n",
    "\n",
    "# Calculate Cohen's Kappa for Age Group between Manual 1 and Manual 2\n",
    "kappa_manual1_manual2 = cohen_kappa_score(merged_data['Age_group_manual_1'], merged_data['Age_group_manual_2'])\n",
    "\n",
    "# Display the results\n",
    "print(f\"Cohen's Kappa (Manual 1 vs Automatic): {kappa_manual1_automatic}\")\n",
    "print(f\"Cohen's Kappa (Manual 2 vs Automatic): {kappa_manual2_automatic}\")\n",
    "print(f\"Cohen's Kappa (Manual 1 vs Manual 2): {kappa_manual1_manual2}\")"
   ]
  },
  {
   "cell_type": "code",
   "execution_count": null,
   "id": "61b33181",
   "metadata": {},
   "outputs": [],
   "source": []
  }
 ],
 "metadata": {
  "kernelspec": {
   "display_name": "Python 3 (ipykernel)",
   "language": "python",
   "name": "python3"
  },
  "language_info": {
   "codemirror_mode": {
    "name": "ipython",
    "version": 3
   },
   "file_extension": ".py",
   "mimetype": "text/x-python",
   "name": "python",
   "nbconvert_exporter": "python",
   "pygments_lexer": "ipython3",
   "version": "3.9.13"
  }
 },
 "nbformat": 4,
 "nbformat_minor": 5
}
