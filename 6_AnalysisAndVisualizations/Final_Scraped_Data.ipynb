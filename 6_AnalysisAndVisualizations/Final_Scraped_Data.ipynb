{
 "cells": [
  {
   "cell_type": "code",
   "execution_count": 10,
   "id": "28b0eca5",
   "metadata": {},
   "outputs": [],
   "source": [
    "import pandas as pd\n",
    "import numpy as np\n",
    "import matplotlib.pyplot as plt\n",
    "\n",
    "import re "
   ]
  },
  {
   "cell_type": "markdown",
   "id": "c901d6fc",
   "metadata": {},
   "source": [
    "# Reported Model Results"
   ]
  },
  {
   "cell_type": "code",
   "execution_count": 2,
   "id": "c74b0e6d",
   "metadata": {
    "scrolled": false
   },
   "outputs": [
    {
     "data": {
      "text/plain": [
       "(21, 9)"
      ]
     },
     "execution_count": 2,
     "metadata": {},
     "output_type": "execute_result"
    }
   ],
   "source": [
    "#from Survay\n",
    "Accuracy_data = pd.read_csv('../5_extractMetricsFromFullText/Normalized_Complete_Table_4.csv')\n",
    "values_to_drop = ['MMI', 'SFEW 2.0', 'TFD']\n",
    "Accuracy_data = Accuracy_data[~Accuracy_data['Datasets'].isin(values_to_drop)]\n",
    "Accuracy_data.shape"
   ]
  },
  {
   "cell_type": "code",
   "execution_count": 3,
   "id": "5ff41c57",
   "metadata": {},
   "outputs": [
    {
     "data": {
      "text/html": [
       "<div>\n",
       "<style scoped>\n",
       "    .dataframe tbody tr th:only-of-type {\n",
       "        vertical-align: middle;\n",
       "    }\n",
       "\n",
       "    .dataframe tbody tr th {\n",
       "        vertical-align: top;\n",
       "    }\n",
       "\n",
       "    .dataframe thead th {\n",
       "        text-align: right;\n",
       "    }\n",
       "</style>\n",
       "<table border=\"1\" class=\"dataframe\">\n",
       "  <thead>\n",
       "    <tr style=\"text-align: right;\">\n",
       "      <th></th>\n",
       "      <th>Datasets</th>\n",
       "      <th>Method</th>\n",
       "      <th>Network Type</th>\n",
       "      <th>Network Size</th>\n",
       "      <th>Pre-processing</th>\n",
       "      <th>Data Selection</th>\n",
       "      <th>Data Group</th>\n",
       "      <th>Additional Classifier</th>\n",
       "      <th>Performance (%)</th>\n",
       "      <th>Accuracy</th>\n",
       "    </tr>\n",
       "  </thead>\n",
       "  <tbody>\n",
       "    <tr>\n",
       "      <th>0</th>\n",
       "      <td>CK+</td>\n",
       "      <td>Ouellet 14 [110]</td>\n",
       "      <td>CNN (AlexNet)</td>\n",
       "      <td>-</td>\n",
       "      <td>-</td>\n",
       "      <td>V&amp;J</td>\n",
       "      <td>the last frame</td>\n",
       "      <td>LOSO</td>\n",
       "      <td>SVM 7 classes†: (94.4)</td>\n",
       "      <td>94.40</td>\n",
       "    </tr>\n",
       "    <tr>\n",
       "      <th>1</th>\n",
       "      <td>CK+</td>\n",
       "      <td>Li et al. 15 [86]</td>\n",
       "      <td>RBM</td>\n",
       "      <td>4</td>\n",
       "      <td>-</td>\n",
       "      <td>V&amp;J</td>\n",
       "      <td>-</td>\n",
       "      <td>IN</td>\n",
       "      <td>6 classes: 96.8</td>\n",
       "      <td>96.80</td>\n",
       "    </tr>\n",
       "    <tr>\n",
       "      <th>2</th>\n",
       "      <td>CK+</td>\n",
       "      <td>Liu et al. 14 [13]</td>\n",
       "      <td>DBN CN</td>\n",
       "      <td>6</td>\n",
       "      <td>2m</td>\n",
       "      <td>-</td>\n",
       "      <td>-</td>\n",
       "      <td>8 folds</td>\n",
       "      <td>AdaBoost 6 classes: 96.7</td>\n",
       "      <td>96.70</td>\n",
       "    </tr>\n",
       "    <tr>\n",
       "      <th>3</th>\n",
       "      <td>CK+</td>\n",
       "      <td>Liu et al. 13 [137]</td>\n",
       "      <td>CNN, RBM CN</td>\n",
       "      <td>5</td>\n",
       "      <td>-</td>\n",
       "      <td>V&amp;J</td>\n",
       "      <td>-</td>\n",
       "      <td>10 folds</td>\n",
       "      <td>SVM 8 classes: 92.05 (87.67)</td>\n",
       "      <td>87.67</td>\n",
       "    </tr>\n",
       "    <tr>\n",
       "      <th>4</th>\n",
       "      <td>CK+</td>\n",
       "      <td>Liu et al. 15 [138]</td>\n",
       "      <td>CNN, RBM CN</td>\n",
       "      <td>5</td>\n",
       "      <td>-</td>\n",
       "      <td>V&amp;J</td>\n",
       "      <td>-</td>\n",
       "      <td>10 folds</td>\n",
       "      <td>SVM 7 classes‡: 93.70</td>\n",
       "      <td>93.70</td>\n",
       "    </tr>\n",
       "  </tbody>\n",
       "</table>\n",
       "</div>"
      ],
      "text/plain": [
       "  Datasets               Method   Network Type Network Size Pre-processing  \\\n",
       "0      CK+     Ouellet 14 [110]  CNN (AlexNet)            -              -   \n",
       "1      CK+    Li et al. 15 [86]            RBM            4              -   \n",
       "2      CK+   Liu et al. 14 [13]         DBN CN            6             2m   \n",
       "3      CK+  Liu et al. 13 [137]    CNN, RBM CN            5              -   \n",
       "4      CK+  Liu et al. 15 [138]    CNN, RBM CN            5              -   \n",
       "\n",
       "  Data Selection      Data Group Additional Classifier  \\\n",
       "0            V&J  the last frame                  LOSO   \n",
       "1            V&J               -                    IN   \n",
       "2              -               -               8 folds   \n",
       "3            V&J               -              10 folds   \n",
       "4            V&J               -              10 folds   \n",
       "\n",
       "                Performance (%)  Accuracy  \n",
       "0        SVM 7 classes†: (94.4)     94.40  \n",
       "1               6 classes: 96.8     96.80  \n",
       "2      AdaBoost 6 classes: 96.7     96.70  \n",
       "3  SVM 8 classes: 92.05 (87.67)     87.67  \n",
       "4         SVM 7 classes‡: 93.70     93.70  "
      ]
     },
     "execution_count": 3,
     "metadata": {},
     "output_type": "execute_result"
    }
   ],
   "source": [
    "Accuracy_data['Accuracy'] = Accuracy_data['Performance (%)'].str.extract(r'(\\d+\\.?\\d*)\\)?\\s*$')\n",
    "\n",
    "# Convert extracted accuracy to numeric\n",
    "Accuracy_data['Accuracy'] = pd.to_numeric(Accuracy_data['Accuracy'], errors='coerce')\n",
    "\n",
    "Accuracy_data.head()"
   ]
  },
  {
   "cell_type": "code",
   "execution_count": 4,
   "id": "6ba936bc",
   "metadata": {},
   "outputs": [],
   "source": [
    "fer_datasets_LONG = {\n",
    "    \"Extended Cohn-Kanade\": \"CK+\",\n",
    "    \"Facial Expression Recognition 2013\": \"FER2013\",\n",
    "    \"Japanese Female Facial Expression\": \"JAFFE\",\n",
    "    \"Affective Faces Database\": \"AffectNet\"\n",
    "}\n"
   ]
  },
  {
   "cell_type": "code",
   "execution_count": 5,
   "id": "a16c4ce2",
   "metadata": {},
   "outputs": [
    {
     "data": {
      "text/plain": [
       "Index(['Datasets', 'Method', 'Network Type', 'Network Size', 'Pre-processing',\n",
       "       'Data Selection', 'Data Group', 'Additional Classifier',\n",
       "       'Performance (%)', 'Accuracy'],\n",
       "      dtype='object')"
      ]
     },
     "execution_count": 5,
     "metadata": {},
     "output_type": "execute_result"
    }
   ],
   "source": [
    "Accuracy_data.columns"
   ]
  },
  {
   "cell_type": "code",
   "execution_count": 6,
   "id": "cdd8b066",
   "metadata": {},
   "outputs": [
    {
     "data": {
      "image/png": "[encoded data removed]",
      "text/plain": [
       "<Figure size 1000x600 with 1 Axes>"
      ]
     },
     "metadata": {},
     "output_type": "display_data"
    }
   ],
   "source": [
    "# Ensure 'Accuracy' is numeric by cleaning and converting the column\n",
    "# If values are concatenated, split them, extract valid numbers, and compute means\n",
    "def clean_accuracy(val):\n",
    "    if isinstance(val, str):\n",
    "        # Split concatenated numbers and keep only valid numeric values\n",
    "        numbers = [float(x) for x in val.split() if x.replace('.', '', 1).isdigit()]\n",
    "        return numbers\n",
    "    elif isinstance(val, (int, float)):\n",
    "        return [val]\n",
    "    return []\n",
    "\n",
    "# Apply the cleaning function to extract valid numbers\n",
    "Accuracy_data['Accuracy_Cleaned'] = Accuracy_data['Accuracy'].apply(clean_accuracy)\n",
    "\n",
    "# Flatten the cleaned accuracy to its first value (or average if multiple exist)\n",
    "Accuracy_data['Accuracy_Cleaned'] = Accuracy_data['Accuracy_Cleaned'].apply(\n",
    "    lambda x: sum(x) / len(x) if len(x) > 0 else None\n",
    ")\n",
    "\n",
    "# Ensure the 'Accuracy_Cleaned' column is numeric\n",
    "Accuracy_data['Accuracy_Cleaned'] = pd.to_numeric(Accuracy_data['Accuracy_Cleaned'], errors='coerce')\n",
    "\n",
    "# Group data by Datasets and calculate mean accuracy\n",
    "grouped_data = Accuracy_data.groupby('Datasets')['Accuracy_Cleaned'].mean().reset_index()\n",
    "\n",
    "# Plot the cleaned Accuracy vs Datasets\n",
    "plt.figure(figsize=(10, 6))\n",
    "plt.bar(grouped_data['Datasets'], grouped_data['Accuracy_Cleaned'], color='skyblue', edgecolor='black')\n",
    "plt.title(\"Accuracy vs Datasets\", fontsize=16)\n",
    "plt.xlabel(\"Datasets\", fontsize=14)\n",
    "plt.ylabel(\"Accuracy (%)\", fontsize=14)\n",
    "plt.ylim(0, 100)\n",
    "plt.xticks(rotation=45, ha='right')\n",
    "plt.tight_layout()\n",
    "plt.show()\n"
   ]
  },
  {
   "cell_type": "markdown",
   "id": "dea30852",
   "metadata": {},
   "source": [
    "# AffectNET accuracy is missing, can be done by reading 16 links below"
   ]
  },
  {
   "cell_type": "code",
   "execution_count": 7,
   "id": "dea9fd78",
   "metadata": {
    "scrolled": false
   },
   "outputs": [
    {
     "data": {
      "text/plain": [
       "5           https://ieeexplore.ieee.org/document/5975141\n",
       "7      https://www.sciencedirect.com/science/article/...\n",
       "8      https://www.sciencedirect.com/science/article/...\n",
       "23         https://ieeexplore.ieee.org/document/6998925/\n",
       "24          https://ieeexplore.ieee.org/document/7451244\n",
       "25     https://www.sciencedirect.com/science/article/...\n",
       "41     https://www.sciencedirect.com/science/article/...\n",
       "47          https://ieeexplore.ieee.org/document/5674019\n",
       "73          https://ieeexplore.ieee.org/document/8528894\n",
       "74          https://ieeexplore.ieee.org/document/8734943\n",
       "81          https://ieeexplore.ieee.org/document/6131215\n",
       "84          https://ieeexplore.ieee.org/document/8227443\n",
       "86          https://ieeexplore.ieee.org/document/7956190\n",
       "96     https://www.sciencedirect.com/science/article/...\n",
       "109                     https://arxiv.org/abs/1512.00932\n",
       "114                     https://arxiv.org/abs/1905.07039\n",
       "Name: URL, dtype: object"
      ]
     },
     "execution_count": 7,
     "metadata": {},
     "output_type": "execute_result"
    }
   ],
   "source": [
    "Scraped_data = pd.read_csv('../5_extractMetricsFromFullText/full_text_with_metrics.csv')\n",
    "#pd.set_option('display.max_colwidth', None)  # Don't truncate column contents\n",
    "filtered_rows = Scraped_data[Scraped_data['Detected_Dataset'] == \"Affective Faces Database\"]\n",
    "#print(len(filtered_rows))\n",
    "filtered_rows['URL']"
   ]
  },
  {
   "cell_type": "markdown",
   "id": "7df4baaa",
   "metadata": {},
   "source": [
    "# Scraped Data Eval"
   ]
  },
  {
   "cell_type": "code",
   "execution_count": 8,
   "id": "f4c5a993",
   "metadata": {
    "scrolled": false
   },
   "outputs": [
    {
     "data": {
      "text/html": [
       "<div>\n",
       "<style scoped>\n",
       "    .dataframe tbody tr th:only-of-type {\n",
       "        vertical-align: middle;\n",
       "    }\n",
       "\n",
       "    .dataframe tbody tr th {\n",
       "        vertical-align: top;\n",
       "    }\n",
       "\n",
       "    .dataframe thead th {\n",
       "        text-align: right;\n",
       "    }\n",
       "</style>\n",
       "<table border=\"1\" class=\"dataframe\">\n",
       "  <thead>\n",
       "    <tr style=\"text-align: right;\">\n",
       "      <th></th>\n",
       "      <th>Title</th>\n",
       "      <th>Authors</th>\n",
       "      <th>Year</th>\n",
       "      <th>Cited By</th>\n",
       "      <th>Detected_Dataset</th>\n",
       "      <th>Detected_Topic</th>\n",
       "      <th>Abstract</th>\n",
       "      <th>Journal</th>\n",
       "      <th>URL</th>\n",
       "      <th>Full_Text</th>\n",
       "    </tr>\n",
       "  </thead>\n",
       "  <tbody>\n",
       "    <tr>\n",
       "      <th>0</th>\n",
       "      <td>3D facial expression recognition based on auto...</td>\n",
       "      <td>['H Tang', 'TS Huang']</td>\n",
       "      <td>2008</td>\n",
       "      <td>205</td>\n",
       "      <td>Binghamton University 3D Facial Expression</td>\n",
       "      <td>classification, classifier, facial expression ...</td>\n",
       "      <td>facial expression recognition from 3D facial s...</td>\n",
       "      <td>… on computer vision and pattern recognition …</td>\n",
       "      <td>https://ieeexplore.ieee.org/document/4563052</td>\n",
       "      <td>3D Facial Expression Recognition Based on Auto...</td>\n",
       "    </tr>\n",
       "    <tr>\n",
       "      <th>1</th>\n",
       "      <td>3D facial expression recognition based on prim...</td>\n",
       "      <td>['J Wang', 'L Yin', 'X Wei', 'Y Sun']</td>\n",
       "      <td>2006</td>\n",
       "      <td>440</td>\n",
       "      <td>Binghamton University 3D Facial Expression</td>\n",
       "      <td>facial expression recognition</td>\n",
       "      <td>expressions using 3D facial expression range d...</td>\n",
       "      <td>… Vision and Pattern Recognition  …</td>\n",
       "      <td>https://ieeexplore.ieee.org/document/1640921</td>\n",
       "      <td>3D Facial Expression Recognition Based on Prim...</td>\n",
       "    </tr>\n",
       "    <tr>\n",
       "      <th>2</th>\n",
       "      <td>A deep learning perspective on the origin of f...</td>\n",
       "      <td>['R Breuer', 'R Kimmel']</td>\n",
       "      <td>2017</td>\n",
       "      <td>140</td>\n",
       "      <td>Acted Facial Expressions In The Wild, Extended...</td>\n",
       "      <td>CNN, FER, deep learning, machine learning</td>\n",
       "      <td>We verify our findings on the Extended Cohn-Ka...</td>\n",
       "      <td>arXiv preprint arXiv:1705.01842</td>\n",
       "      <td>https://arxiv.org/abs/1705.01842</td>\n",
       "      <td>BREUER,KIMMEL:ADEEPLEARNINGPERSPECTIVEONFACIAL...</td>\n",
       "    </tr>\n",
       "    <tr>\n",
       "      <th>3</th>\n",
       "      <td>A deeper look at facial expression dataset bias</td>\n",
       "      <td>['S Li', 'W Deng']</td>\n",
       "      <td>2020</td>\n",
       "      <td>127</td>\n",
       "      <td>Affective Faces Database, MMI Facial Expression</td>\n",
       "      <td>FER, classification, classifier</td>\n",
       "      <td>As the skew class distribution across domains ...</td>\n",
       "      <td>IEEE Transactions on Affective Computing</td>\n",
       "      <td>https://arxiv.org/abs/1904.11150</td>\n",
       "      <td>1\\nA Deeper Look at Facial Expression Dataset ...</td>\n",
       "    </tr>\n",
       "    <tr>\n",
       "      <th>4</th>\n",
       "      <td>A high-resolution spontaneous 3d dynamic facia...</td>\n",
       "      <td>['X Zhang', 'L Yin', 'JF Cohn', 'S Canavan']</td>\n",
       "      <td>2013</td>\n",
       "      <td>920</td>\n",
       "      <td>Binghamton University 3D Facial Expression</td>\n",
       "      <td>classification, classifier, deep learning, fac...</td>\n",
       "      <td>3D video database of spontaneous facial expres...</td>\n",
       "      <td>… gesture recognition  …</td>\n",
       "      <td>https://www.sciencedirect.com/science/article/...</td>\n",
       "      <td>## Title: BP4D-Spontaneous: a high-resolution ...</td>\n",
       "    </tr>\n",
       "  </tbody>\n",
       "</table>\n",
       "</div>"
      ],
      "text/plain": [
       "                                               Title  \\\n",
       "0  3D facial expression recognition based on auto...   \n",
       "1  3D facial expression recognition based on prim...   \n",
       "2  A deep learning perspective on the origin of f...   \n",
       "3    A deeper look at facial expression dataset bias   \n",
       "4  A high-resolution spontaneous 3d dynamic facia...   \n",
       "\n",
       "                                        Authors  Year  Cited By  \\\n",
       "0                        ['H Tang', 'TS Huang']  2008       205   \n",
       "1         ['J Wang', 'L Yin', 'X Wei', 'Y Sun']  2006       440   \n",
       "2                      ['R Breuer', 'R Kimmel']  2017       140   \n",
       "3                            ['S Li', 'W Deng']  2020       127   \n",
       "4  ['X Zhang', 'L Yin', 'JF Cohn', 'S Canavan']  2013       920   \n",
       "\n",
       "                                    Detected_Dataset  \\\n",
       "0         Binghamton University 3D Facial Expression   \n",
       "1         Binghamton University 3D Facial Expression   \n",
       "2  Acted Facial Expressions In The Wild, Extended...   \n",
       "3    Affective Faces Database, MMI Facial Expression   \n",
       "4         Binghamton University 3D Facial Expression   \n",
       "\n",
       "                                      Detected_Topic  \\\n",
       "0  classification, classifier, facial expression ...   \n",
       "1                      facial expression recognition   \n",
       "2          CNN, FER, deep learning, machine learning   \n",
       "3                    FER, classification, classifier   \n",
       "4  classification, classifier, deep learning, fac...   \n",
       "\n",
       "                                            Abstract  \\\n",
       "0  facial expression recognition from 3D facial s...   \n",
       "1  expressions using 3D facial expression range d...   \n",
       "2  We verify our findings on the Extended Cohn-Ka...   \n",
       "3  As the skew class distribution across domains ...   \n",
       "4  3D video database of spontaneous facial expres...   \n",
       "\n",
       "                                          Journal  \\\n",
       "0  … on computer vision and pattern recognition …   \n",
       "1             … Vision and Pattern Recognition  …   \n",
       "2                 arXiv preprint arXiv:1705.01842   \n",
       "3        IEEE Transactions on Affective Computing   \n",
       "4                        … gesture recognition  …   \n",
       "\n",
       "                                                 URL  \\\n",
       "0       https://ieeexplore.ieee.org/document/4563052   \n",
       "1       https://ieeexplore.ieee.org/document/1640921   \n",
       "2                   https://arxiv.org/abs/1705.01842   \n",
       "3                   https://arxiv.org/abs/1904.11150   \n",
       "4  https://www.sciencedirect.com/science/article/...   \n",
       "\n",
       "                                           Full_Text  \n",
       "0  3D Facial Expression Recognition Based on Auto...  \n",
       "1  3D Facial Expression Recognition Based on Prim...  \n",
       "2  BREUER,KIMMEL:ADEEPLEARNINGPERSPECTIVEONFACIAL...  \n",
       "3  1\\nA Deeper Look at Facial Expression Dataset ...  \n",
       "4  ## Title: BP4D-Spontaneous: a high-resolution ...  "
      ]
     },
     "execution_count": 8,
     "metadata": {},
     "output_type": "execute_result"
    }
   ],
   "source": [
    "Scraped_data = pd.read_csv('../5_extractMetricsFromFullText/full_text_with_metrics.csv')\n",
    "Scraped_data = Scraped_data.drop(['Unnamed: 0', 'ID',  'Metric_Context', 'f1 score', 'accuracy', 'precision',\n",
    "       'recall', 'auc', 'mean squared error', 'r2 score', 'mae'], axis=1)\n",
    "Scraped_data.head()"
   ]
  },
  {
   "cell_type": "code",
   "execution_count": 12,
   "id": "0d0b5540",
   "metadata": {},
   "outputs": [
    {
     "data": {
      "text/plain": [
       "(115, 10)"
      ]
     },
     "execution_count": 12,
     "metadata": {},
     "output_type": "execute_result"
    }
   ],
   "source": [
    "Scraped_data.shape"
   ]
  },
  {
   "cell_type": "code",
   "execution_count": null,
   "id": "768c3c3a",
   "metadata": {},
   "outputs": [],
   "source": []
  }
 ],
 "metadata": {
  "kernelspec": {
   "display_name": "Python 3 (ipykernel)",
   "language": "python",
   "name": "python3"
  },
  "language_info": {
   "codemirror_mode": {
    "name": "ipython",
    "version": 3
   },
   "file_extension": ".py",
   "mimetype": "text/x-python",
   "name": "python",
   "nbconvert_exporter": "python",
   "pygments_lexer": "ipython3",
   "version": "3.9.13"
  }
 },
 "nbformat": 4,
 "nbformat_minor": 5
}
