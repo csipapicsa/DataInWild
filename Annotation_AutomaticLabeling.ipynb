{
 "cells": [
  {
   "cell_type": "code",
   "execution_count": 11,
   "id": "fabd9ded",
   "metadata": {},
   "outputs": [],
   "source": [
    "import os\n",
    "import pandas as pd\n",
    "# https://github.com/serengil/deepface\n",
    "from deepface import DeepFace\n",
    "import matplotlib.pyplot as plt\n",
    "from PIL import Image\n",
    "\n",
    "# https://github.com/serengil/deepface"
   ]
  },
  {
   "cell_type": "code",
   "execution_count": 12,
   "id": "8256b9ee",
   "metadata": {},
   "outputs": [
    {
     "name": "stderr",
     "output_type": "stream",
     "text": [
      "Action: race: 100%|██████████| 4/4 [00:01<00:00,  2.15it/s]  \n"
     ]
    }
   ],
   "source": [
    "# Ping the downloader \n",
    "demography = DeepFace.analyze(\"datasets/demo.webp\")"
   ]
  },
  {
   "cell_type": "code",
   "execution_count": 14,
   "id": "21b338d3",
   "metadata": {},
   "outputs": [
    {
     "name": "stdout",
     "output_type": "stream",
     "text": [
      "[{'emotion': {'angry': 0.10531744919717312, 'disgust': 2.803263697559455e-10, 'fear': 0.2158679999411106, 'happy': 0.010577819921309128, 'sad': 0.7379644550383091, 'surprise': 5.6421009730911464e-05, 'neutral': 98.93022179603577}, 'dominant_emotion': 'neutral', 'region': {'x': 314, 'y': 122, 'w': 419, 'h': 419, 'left_eye': (588, 287), 'right_eye': (446, 294)}, 'face_confidence': 0.9, 'age': 22, 'gender': {'Woman': 0.0007874124094087165, 'Man': 99.99921321868896}, 'dominant_gender': 'Man', 'race': {'asian': 11.131422221660614, 'indian': 9.598477929830551, 'black': 3.4827280789613724, 'white': 20.289698243141174, 'middle eastern': 11.227376759052277, 'latino hispanic': 44.2702978849411}, 'dominant_race': 'latino hispanic'}]\n"
     ]
    }
   ],
   "source": [
    "print(demography)"
   ]
  },
  {
   "cell_type": "code",
   "execution_count": 17,
   "id": "a8eb4bfb",
   "metadata": {},
   "outputs": [
    {
     "name": "stdout",
     "output_type": "stream",
     "text": [
      "Processing image0000006.jpg\n"
     ]
    },
    {
     "name": "stderr",
     "output_type": "stream",
     "text": [
      "Action: emotion: 100%|██████████| 4/4 [00:02<00:00,  1.75it/s]\n"
     ]
    },
    {
     "name": "stdout",
     "output_type": "stream",
     "text": [
      "{'age': 30, 'region': {'x': 3, 'y': 4, 'w': 90, 'h': 90, 'left_eye': None, 'right_eye': None}, 'face_confidence': 0.91, 'gender': {'Woman': 99.9563992023468, 'Man': 0.043599572381936014}, 'dominant_gender': 'Woman', 'race': {'asian': 2.0496623009845854, 'indian': 5.314929149755341, 'black': 1.4005412540684636, 'white': 47.2203228211018, 'middle eastern': 18.40199310755812, 'latino hispanic': 25.612550900870453}, 'dominant_race': 'white', 'emotion': {'angry': 1.1159054934978485, 'disgust': 0.00015902076029306045, 'fear': 3.751002252101898, 'happy': 0.2730396343395114, 'sad': 1.0492834262549877, 'surprise': 4.167221486568451, 'neutral': 89.64338898658752}, 'dominant_emotion': 'neutral'}\n",
      "Processed image0000006.jpg: Age: 30, Gender: Woman, Race: white\n",
      "Processing image0000060.jpg\n"
     ]
    },
    {
     "name": "stderr",
     "output_type": "stream",
     "text": [
      "Action: emotion: 100%|██████████| 4/4 [00:02<00:00,  1.76it/s]\n"
     ]
    },
    {
     "name": "stdout",
     "output_type": "stream",
     "text": [
      "{'age': 34, 'region': {'x': 8, 'y': 9, 'w': 78, 'h': 78, 'left_eye': None, 'right_eye': None}, 'face_confidence': 0.95, 'gender': {'Woman': 0.596150616183877, 'Man': 99.4038462638855}, 'dominant_gender': 'Man', 'race': {'asian': 0.0038317901736447317, 'indian': 0.0027183956064189027, 'black': 6.771640363500613e-05, 'white': 97.11841923704262, 'middle eastern': 0.7804494816332747, 'latino hispanic': 2.094515351624212}, 'dominant_race': 'white', 'emotion': {'angry': 1.1144759557801502e-06, 'disgust': 1.369901416994693e-24, 'fear': 0.001592452921943727, 'happy': 1.0665793506853736e-05, 'sad': 0.001669544971641971, 'surprise': 2.3711258726453755e-05, 'neutral': 99.99670386294746}, 'dominant_emotion': 'neutral'}\n",
      "Processed image0000060.jpg: Age: 34, Gender: Man, Race: white\n",
      "Processing image0000061.jpg\n"
     ]
    },
    {
     "name": "stderr",
     "output_type": "stream",
     "text": [
      "Action: emotion: 100%|██████████| 4/4 [00:01<00:00,  2.10it/s]\n"
     ]
    },
    {
     "name": "stdout",
     "output_type": "stream",
     "text": [
      "{'age': 44, 'region': {'x': 9, 'y': 11, 'w': 77, 'h': 77, 'left_eye': None, 'right_eye': None}, 'face_confidence': 0.93, 'gender': {'Woman': 0.16012456035241485, 'Man': 99.83987212181091}, 'dominant_gender': 'Man', 'race': {'asian': 0.01601080148248002, 'indian': 0.1069908612407744, 'black': 0.0023018961655907333, 'white': 85.20588278770447, 'middle eastern': 10.745767503976822, 'latino hispanic': 3.9230473339557648}, 'dominant_race': 'white', 'emotion': {'angry': 1.544364075026755, 'disgust': 0.012573097068516736, 'fear': 5.544972005186796, 'happy': 78.772787974643, 'sad': 0.48565550808045316, 'surprise': 13.552371475241868, 'neutral': 0.0872802507001311}, 'dominant_emotion': 'happy'}\n",
      "Processed image0000061.jpg: Age: 44, Gender: Man, Race: white\n",
      "Processing image0000066.jpg\n"
     ]
    },
    {
     "name": "stderr",
     "output_type": "stream",
     "text": [
      "Action: emotion: 100%|██████████| 4/4 [00:02<00:00,  1.70it/s]\n"
     ]
    },
    {
     "name": "stdout",
     "output_type": "stream",
     "text": [
      "{'age': 49, 'region': {'x': 12, 'y': 10, 'w': 76, 'h': 76, 'left_eye': None, 'right_eye': None}, 'face_confidence': 0.93, 'gender': {'Woman': 0.024913702509365976, 'Man': 99.97509121894836}, 'dominant_gender': 'Man', 'race': {'asian': 0.5391043433869668, 'indian': 0.1090005725137207, 'black': 0.012028802323912553, 'white': 94.14309333049138, 'middle eastern': 3.2755348651963634, 'latino hispanic': 1.921230511816679}, 'dominant_race': 'white', 'emotion': {'angry': 34.21066999435425, 'disgust': 0.003087173536187038, 'fear': 0.363167654722929, 'happy': 0.014233104593586177, 'sad': 50.22311806678772, 'surprise': 0.017171136278193444, 'neutral': 15.168559551239014}, 'dominant_emotion': 'sad'}\n",
      "Processed image0000066.jpg: Age: 49, Gender: Man, Race: white\n",
      "Processing image0000106.jpg\n"
     ]
    },
    {
     "name": "stderr",
     "output_type": "stream",
     "text": [
      "Action: emotion: 100%|██████████| 4/4 [00:02<00:00,  1.38it/s]\n"
     ]
    },
    {
     "name": "stdout",
     "output_type": "stream",
     "text": [
      "{'age': 30, 'region': {'x': 0, 'y': 0, 'w': 95, 'h': 95, 'left_eye': None, 'right_eye': None}, 'face_confidence': 0.96, 'gender': {'Woman': 2.1965713870031323e-05, 'Man': 99.99997615814209}, 'dominant_gender': 'Man', 'race': {'asian': 0.024934805758907587, 'indian': 0.07203004483119188, 'black': 99.61152072090158, 'white': 0.006258320372845054, 'middle eastern': 0.0009264748054510216, 'latino hispanic': 0.2843328159252186}, 'dominant_race': 'black', 'emotion': {'angry': 77.44790181207071, 'disgust': 3.472795522201688e-09, 'fear': 0.17623554335820935, 'happy': 1.0100177963156182e-07, 'sad': 14.405311012584628, 'surprise': 2.1317615611061463e-07, 'neutral': 7.970552621516742}, 'dominant_emotion': 'angry'}\n",
      "Processed image0000106.jpg: Age: 30, Gender: Man, Race: black\n",
      "Analysis completed! Results saved to face_analysis_results_anger.csv\n",
      "Processing ffhq_0.png\n"
     ]
    },
    {
     "name": "stderr",
     "output_type": "stream",
     "text": [
      "Action: emotion: 100%|██████████| 4/4 [00:02<00:00,  1.53it/s]\n"
     ]
    },
    {
     "name": "stdout",
     "output_type": "stream",
     "text": [
      "{'age': 26, 'region': {'x': 18, 'y': 22, 'w': 57, 'h': 57, 'left_eye': None, 'right_eye': None}, 'face_confidence': 0.93, 'gender': {'Woman': 96.52379751205444, 'Man': 3.476203978061676}, 'dominant_gender': 'Woman', 'race': {'asian': 8.057225230766846, 'indian': 0.05947223171239982, 'black': 0.019826847437227364, 'white': 89.20474584130918, 'middle eastern': 1.5378428608383454, 'latino hispanic': 1.1208881360821805}, 'dominant_race': 'white', 'emotion': {'angry': 0.09203476914225633, 'disgust': 4.679376099072754e-06, 'fear': 51.693514090389854, 'happy': 0.0006851148054008116, 'sad': 47.868358961842, 'surprise': 0.00014765921348679895, 'neutral': 0.3452550127136715}, 'dominant_emotion': 'fear'}\n",
      "Processed ffhq_0.png: Age: 26, Gender: Woman, Race: white\n",
      "Processing ffhq_1.png\n"
     ]
    },
    {
     "name": "stderr",
     "output_type": "stream",
     "text": [
      "Action: emotion: 100%|██████████| 4/4 [00:02<00:00,  1.74it/s]\n"
     ]
    },
    {
     "name": "stdout",
     "output_type": "stream",
     "text": [
      "{'age': 47, 'region': {'x': 12, 'y': 15, 'w': 73, 'h': 73, 'left_eye': None, 'right_eye': None}, 'face_confidence': 0.89, 'gender': {'Woman': 0.0055711778259137645, 'Man': 99.99443292617798}, 'dominant_gender': 'Man', 'race': {'asian': 24.60828274488449, 'indian': 13.63128274679184, 'black': 4.997267574071884, 'white': 16.0183846950531, 'middle eastern': 14.171944558620453, 'latino hispanic': 26.572835445404053}, 'dominant_race': 'latino hispanic', 'emotion': {'angry': 5.378090165739666, 'disgust': 0.029123282282510835, 'fear': 1.275021006913245, 'happy': 0.06881423588293707, 'sad': 46.430033232571674, 'surprise': 0.0018263438684619103, 'neutral': 46.817096878117134}, 'dominant_emotion': 'neutral'}\n",
      "Processed ffhq_1.png: Age: 47, Gender: Man, Race: latino hispanic\n",
      "Processing ffhq_10.png\n"
     ]
    },
    {
     "name": "stderr",
     "output_type": "stream",
     "text": [
      "Action: emotion: 100%|██████████| 4/4 [00:01<00:00,  2.18it/s]\n"
     ]
    },
    {
     "name": "stdout",
     "output_type": "stream",
     "text": [
      "{'age': 39, 'region': {'x': 17, 'y': 20, 'w': 69, 'h': 69, 'left_eye': None, 'right_eye': None}, 'face_confidence': 0.91, 'gender': {'Woman': 38.94886374473572, 'Man': 61.05113625526428}, 'dominant_gender': 'Man', 'race': {'asian': 2.1666713058948517, 'indian': 13.578908145427704, 'black': 0.38452865555882454, 'white': 9.801243245601654, 'middle eastern': 57.67061114311218, 'latino hispanic': 16.398033499717712}, 'dominant_race': 'middle eastern', 'emotion': {'angry': 0.1553562586195767, 'disgust': 7.335958684961952e-06, 'fear': 42.513418197631836, 'happy': 1.0026155039668083, 'sad': 19.30702030658722, 'surprise': 0.033561832970008254, 'neutral': 36.98802590370178}, 'dominant_emotion': 'fear'}\n",
      "Processed ffhq_10.png: Age: 39, Gender: Man, Race: middle eastern\n",
      "Processing ffhq_11.png\n"
     ]
    },
    {
     "name": "stderr",
     "output_type": "stream",
     "text": [
      "Action: emotion: 100%|██████████| 4/4 [00:01<00:00,  2.44it/s]\n"
     ]
    },
    {
     "name": "stdout",
     "output_type": "stream",
     "text": [
      "{'age': 26, 'region': {'x': 12, 'y': 15, 'w': 72, 'h': 72, 'left_eye': None, 'right_eye': None}, 'face_confidence': 0.93, 'gender': {'Woman': 0.023723140475340188, 'Man': 99.97627139091492}, 'dominant_gender': 'Man', 'race': {'asian': 0.0016030009646783583, 'indian': 2.242344804108143, 'black': 0.0029116979931131937, 'white': 5.400794744491577, 'middle eastern': 90.34885168075562, 'latino hispanic': 2.0034896209836006}, 'dominant_race': 'middle eastern', 'emotion': {'angry': 28.96963357925415, 'disgust': 2.0221525787178507e-06, 'fear': 0.045161505113355815, 'happy': 2.453165848237404e-05, 'sad': 61.77542805671692, 'surprise': 3.968545492227804e-08, 'neutral': 9.209749102592468}, 'dominant_emotion': 'sad'}\n",
      "Processed ffhq_11.png: Age: 26, Gender: Man, Race: middle eastern\n",
      "Processing ffhq_12.png\n"
     ]
    },
    {
     "name": "stderr",
     "output_type": "stream",
     "text": [
      "Action: emotion: 100%|██████████| 4/4 [00:01<00:00,  2.29it/s]\n"
     ]
    },
    {
     "name": "stdout",
     "output_type": "stream",
     "text": [
      "{'age': 38, 'region': {'x': 15, 'y': 20, 'w': 65, 'h': 65, 'left_eye': None, 'right_eye': None}, 'face_confidence': 0.95, 'gender': {'Woman': 81.45477175712585, 'Man': 18.545228242874146}, 'dominant_gender': 'Woman', 'race': {'asian': 1.4760819212247087, 'indian': 1.440819159347961, 'black': 0.19898483318745094, 'white': 66.99120205588353, 'middle eastern': 18.26458384183549, 'latino hispanic': 11.628325976629613}, 'dominant_race': 'white', 'emotion': {'angry': 0.05985989475719004, 'disgust': 2.611293337332059e-07, 'fear': 0.3307974163173089, 'happy': 98.99323576648449, 'sad': 0.6132805154192755, 'surprise': 0.0028102109210249027, 'neutral': 2.5485731312285578e-05}, 'dominant_emotion': 'happy'}\n",
      "Processed ffhq_12.png: Age: 38, Gender: Woman, Race: white\n",
      "Analysis completed! Results saved to face_analysis_results_disgust.csv\n",
      "Processing image0000284.jpg\n"
     ]
    },
    {
     "name": "stderr",
     "output_type": "stream",
     "text": [
      "Action: emotion: 100%|██████████| 4/4 [00:01<00:00,  2.16it/s]\n"
     ]
    },
    {
     "name": "stdout",
     "output_type": "stream",
     "text": [
      "{'age': 27, 'region': {'x': 8, 'y': 9, 'w': 78, 'h': 78, 'left_eye': (62, 39), 'right_eye': (32, 40)}, 'face_confidence': 0.93, 'gender': {'Woman': 99.9994158744812, 'Man': 0.0005796610821562354}, 'dominant_gender': 'Woman', 'race': {'asian': 9.530934335089114e-05, 'indian': 0.0011484322385513224, 'black': 5.412783821157063e-06, 'white': 96.09912633895874, 'middle eastern': 1.5957061201334, 'latino hispanic': 2.3039162158966064}, 'dominant_race': 'white', 'emotion': {'angry': 1.3287991699431906e-05, 'disgust': 1.6715837830750347e-07, 'fear': 0.009773477649078575, 'happy': 99.5846212405418, 'sad': 2.7007743219693184e-05, 'surprise': 0.15691478495943129, 'neutral': 0.2486485458658879}, 'dominant_emotion': 'happy'}\n",
      "Processed image0000284.jpg: Age: 27, Gender: Woman, Race: white\n",
      "Processing image0000285.jpg\n"
     ]
    },
    {
     "name": "stderr",
     "output_type": "stream",
     "text": [
      "Action: emotion: 100%|██████████| 4/4 [00:02<00:00,  1.51it/s]\n"
     ]
    },
    {
     "name": "stdout",
     "output_type": "stream",
     "text": [
      "{'age': 29, 'region': {'x': 10, 'y': 10, 'w': 75, 'h': 75, 'left_eye': (63, 37), 'right_eye': (34, 39)}, 'face_confidence': 0.93, 'gender': {'Woman': 99.57346320152283, 'Man': 0.42653679847717285}, 'dominant_gender': 'Woman', 'race': {'asian': 11.519107967615128, 'indian': 6.872639060020447, 'black': 5.38649708032608, 'white': 17.459967732429504, 'middle eastern': 7.747232913970947, 'latino hispanic': 51.014554500579834}, 'dominant_race': 'latino hispanic', 'emotion': {'angry': 0.07132741582110022, 'disgust': 6.18122473758584e-10, 'fear': 1.2556498687356632, 'happy': 1.5500412988891473e-08, 'sad': 98.65329853613964, 'surprise': 0.00018315040461215623, 'neutral': 0.019540506473828493}, 'dominant_emotion': 'sad'}\n",
      "Processed image0000285.jpg: Age: 29, Gender: Woman, Race: latino hispanic\n",
      "Processing image0000419.jpg\n"
     ]
    },
    {
     "name": "stderr",
     "output_type": "stream",
     "text": [
      "Action: emotion: 100%|██████████| 4/4 [00:02<00:00,  1.85it/s]\n"
     ]
    },
    {
     "name": "stdout",
     "output_type": "stream",
     "text": [
      "{'age': 40, 'region': {'x': 12, 'y': 11, 'w': 74, 'h': 74, 'left_eye': None, 'right_eye': None}, 'face_confidence': 0.92, 'gender': {'Woman': 91.34761095046997, 'Man': 8.652395755052567}, 'dominant_gender': 'Woman', 'race': {'asian': 54.16370630264282, 'indian': 2.746928855776787, 'black': 0.6580090150237083, 'white': 12.790994346141815, 'middle eastern': 2.1778058260679245, 'latino hispanic': 27.462556958198547}, 'dominant_race': 'asian', 'emotion': {'angry': 1.5957591143702934, 'disgust': 1.2320342814224193e-05, 'fear': 14.400781059311692, 'happy': 0.011083446521629186, 'sad': 9.105516767830656, 'surprise': 0.18515428467641978, 'neutral': 74.70169512639613}, 'dominant_emotion': 'neutral'}\n",
      "Processed image0000419.jpg: Age: 40, Gender: Woman, Race: asian\n",
      "Processing image0000451.jpg\n"
     ]
    },
    {
     "name": "stderr",
     "output_type": "stream",
     "text": [
      "Action: emotion: 100%|██████████| 4/4 [00:02<00:00,  1.88it/s]\n"
     ]
    },
    {
     "name": "stdout",
     "output_type": "stream",
     "text": [
      "{'age': 39, 'region': {'x': 12, 'y': 11, 'w': 73, 'h': 73, 'left_eye': None, 'right_eye': None}, 'face_confidence': 0.94, 'gender': {'Woman': 0.7228215225040913, 'Man': 99.27718043327332}, 'dominant_gender': 'Man', 'race': {'asian': 8.347655087709427, 'indian': 7.6356664299964905, 'black': 1.9429558888077736, 'white': 16.577643156051636, 'middle eastern': 9.565279632806778, 'latino hispanic': 55.93079924583435}, 'dominant_race': 'latino hispanic', 'emotion': {'angry': 0.29814429581165314, 'disgust': 5.528708513224956e-06, 'fear': 10.244433581829071, 'happy': 0.05815749173052609, 'sad': 35.98279654979706, 'surprise': 0.0056001274060690776, 'neutral': 53.41086387634277}, 'dominant_emotion': 'neutral'}\n",
      "Processed image0000451.jpg: Age: 39, Gender: Man, Race: latino hispanic\n",
      "Processing image0000473.jpg\n"
     ]
    },
    {
     "name": "stderr",
     "output_type": "stream",
     "text": [
      "Action: emotion: 100%|██████████| 4/4 [00:02<00:00,  1.70it/s]\n"
     ]
    },
    {
     "name": "stdout",
     "output_type": "stream",
     "text": [
      "{'age': 35, 'region': {'x': 14, 'y': 13, 'w': 70, 'h': 70, 'left_eye': None, 'right_eye': None}, 'face_confidence': 0.91, 'gender': {'Woman': 0.001349398553429637, 'Man': 99.99865293502808}, 'dominant_gender': 'Man', 'race': {'asian': 4.982015414954151, 'indian': 11.496753185793947, 'black': 4.777101712054116, 'white': 25.87093865102164, 'middle eastern': 13.361608288383978, 'latino hispanic': 39.511581630205015}, 'dominant_race': 'latino hispanic', 'emotion': {'angry': 10.87140217423439, 'disgust': 0.012142262858105823, 'fear': 3.2712679356336594, 'happy': 0.009419698471901938, 'sad': 83.1490159034729, 'surprise': 0.023629504721611738, 'neutral': 2.6631226763129234}, 'dominant_emotion': 'sad'}\n",
      "Processed image0000473.jpg: Age: 35, Gender: Man, Race: latino hispanic\n",
      "Analysis completed! Results saved to face_analysis_results_fear.csv\n",
      "Processing ffhq_0.png\n"
     ]
    },
    {
     "name": "stderr",
     "output_type": "stream",
     "text": [
      "Action: emotion: 100%|██████████| 4/4 [00:04<00:00,  1.07s/it]\n"
     ]
    },
    {
     "name": "stdout",
     "output_type": "stream",
     "text": [
      "{'age': 29, 'region': {'x': 13, 'y': 18, 'w': 69, 'h': 69, 'left_eye': None, 'right_eye': None}, 'face_confidence': 0.91, 'gender': {'Woman': 3.6586660891771317, 'Man': 96.3413417339325}, 'dominant_gender': 'Man', 'race': {'asian': 1.7969463020563126, 'indian': 1.6608955338597298, 'black': 0.3251387272030115, 'white': 59.64095592498779, 'middle eastern': 14.896157383918762, 'latino hispanic': 21.67990505695343}, 'dominant_race': 'white', 'emotion': {'angry': 8.854794596695103e-06, 'disgust': 9.81199240906487e-09, 'fear': 1.0684786891623492e-06, 'happy': 97.85745169431547, 'sad': 0.0006808210498669935, 'surprise': 0.0002140585110673081, 'neutral': 2.141636913521658}, 'dominant_emotion': 'happy'}\n",
      "Processed ffhq_0.png: Age: 29, Gender: Man, Race: white\n",
      "Processing ffhq_1.png\n"
     ]
    },
    {
     "name": "stderr",
     "output_type": "stream",
     "text": [
      "Action: emotion: 100%|██████████| 4/4 [00:03<00:00,  1.13it/s]\n"
     ]
    },
    {
     "name": "stdout",
     "output_type": "stream",
     "text": [
      "{'age': 34, 'region': {'x': 17, 'y': 18, 'w': 68, 'h': 68, 'left_eye': None, 'right_eye': None}, 'face_confidence': 0.93, 'gender': {'Woman': 100.0, 'Man': 2.872538207299158e-07}, 'dominant_gender': 'Woman', 'race': {'asian': 12.191903591156006, 'indian': 1.2503166683018208, 'black': 0.4802083130925894, 'white': 42.1503484249115, 'middle eastern': 9.27521288394928, 'latino hispanic': 34.65200960636139}, 'dominant_race': 'white', 'emotion': {'angry': 0.025949049541483794, 'disgust': 0.001356809197131813, 'fear': 0.6830147409000838, 'happy': 97.16975672064761, 'sad': 0.15396026182310354, 'surprise': 0.034491513234057324, 'neutral': 1.9314692575615202}, 'dominant_emotion': 'happy'}\n",
      "Processed ffhq_1.png: Age: 34, Gender: Woman, Race: white\n",
      "Processing ffhq_10.png\n"
     ]
    },
    {
     "name": "stderr",
     "output_type": "stream",
     "text": [
      "Action: emotion: 100%|██████████| 4/4 [00:03<00:00,  1.33it/s]\n"
     ]
    },
    {
     "name": "stdout",
     "output_type": "stream",
     "text": [
      "{'age': 32, 'region': {'x': 17, 'y': 20, 'w': 61, 'h': 61, 'left_eye': None, 'right_eye': None}, 'face_confidence': 0.95, 'gender': {'Woman': 7.03178197145462, 'Man': 92.9682195186615}, 'dominant_gender': 'Man', 'race': {'asian': 6.8625204265117645, 'indian': 6.451787054538727, 'black': 1.661686971783638, 'white': 25.669559836387634, 'middle eastern': 21.63444757461548, 'latino hispanic': 37.72000074386597}, 'dominant_race': 'latino hispanic', 'emotion': {'angry': 5.155552096347549e-08, 'disgust': 2.0427580914660416e-15, 'fear': 1.2773104622609832e-09, 'happy': 99.82123374938965, 'sad': 2.814444322041254e-06, 'surprise': 0.004452384382602759, 'neutral': 0.17431434243917465}, 'dominant_emotion': 'happy'}\n",
      "Processed ffhq_10.png: Age: 32, Gender: Man, Race: latino hispanic\n",
      "Processing ffhq_100.png\n"
     ]
    },
    {
     "name": "stderr",
     "output_type": "stream",
     "text": [
      "Action: emotion: 100%|██████████| 4/4 [00:02<00:00,  1.53it/s]\n"
     ]
    },
    {
     "name": "stdout",
     "output_type": "stream",
     "text": [
      "{'age': 33, 'region': {'x': 17, 'y': 24, 'w': 62, 'h': 62, 'left_eye': None, 'right_eye': None}, 'face_confidence': 0.94, 'gender': {'Woman': 90.79058766365051, 'Man': 9.209410101175308}, 'dominant_gender': 'Woman', 'race': {'asian': 0.01421132474206388, 'indian': 0.04964752006344497, 'black': 0.0024862958525773138, 'white': 88.74479532241821, 'middle eastern': 6.6735148429870605, 'latino hispanic': 4.515349492430687}, 'dominant_race': 'white', 'emotion': {'angry': 3.190000842896743e-05, 'disgust': 1.5476516876149653e-10, 'fear': 0.0004358661889183594, 'happy': 99.9609172390798, 'sad': 0.0004699336735983284, 'surprise': 0.0009276572913314372, 'neutral': 0.037216460552339486}, 'dominant_emotion': 'happy'}\n",
      "Processed ffhq_100.png: Age: 33, Gender: Woman, Race: white\n",
      "Processing ffhq_1000.png\n"
     ]
    },
    {
     "name": "stderr",
     "output_type": "stream",
     "text": [
      "Action: emotion: 100%|██████████| 4/4 [00:02<00:00,  1.70it/s]\n"
     ]
    },
    {
     "name": "stdout",
     "output_type": "stream",
     "text": [
      "{'age': 50, 'region': {'x': 15, 'y': 21, 'w': 66, 'h': 66, 'left_eye': None, 'right_eye': None}, 'face_confidence': 0.95, 'gender': {'Woman': 0.04308028146624565, 'Man': 99.95692372322083}, 'dominant_gender': 'Man', 'race': {'asian': 0.00964663558988832, 'indian': 0.2143200021237135, 'black': 0.001443650671717478, 'white': 76.1477530002594, 'middle eastern': 18.899734318256378, 'latino hispanic': 4.727102443575859}, 'dominant_race': 'white', 'emotion': {'angry': 0.15746501740068197, 'disgust': 1.17827569923179e-07, 'fear': 3.840937949917134e-05, 'happy': 65.63377380371094, 'sad': 0.00030325511488626944, 'surprise': 0.006204564124345779, 'neutral': 34.20221507549286}, 'dominant_emotion': 'happy'}\n",
      "Processed ffhq_1000.png: Age: 50, Gender: Man, Race: white\n",
      "Analysis completed! Results saved to face_analysis_results_happy.csv\n",
      "Processing ffhq_0.png\n"
     ]
    },
    {
     "name": "stderr",
     "output_type": "stream",
     "text": [
      "Action: emotion: 100%|██████████| 4/4 [00:01<00:00,  2.05it/s]\n"
     ]
    },
    {
     "name": "stdout",
     "output_type": "stream",
     "text": [
      "{'age': 23, 'region': {'x': 14, 'y': 18, 'w': 64, 'h': 64, 'left_eye': None, 'right_eye': None}, 'face_confidence': 0.97, 'gender': {'Woman': 99.41588640213013, 'Man': 0.5841154139488935}, 'dominant_gender': 'Woman', 'race': {'asian': 62.191563844680786, 'indian': 4.6212900429964066, 'black': 2.025003731250763, 'white': 6.538332253694534, 'middle eastern': 1.7262611538171768, 'latino hispanic': 22.897548973560333}, 'dominant_race': 'asian', 'emotion': {'angry': 0.10872612474486232, 'disgust': 7.944928048786437e-08, 'fear': 32.430970668792725, 'happy': 1.1086083017289639, 'sad': 0.21849670447409153, 'surprise': 1.1492450721561909, 'neutral': 64.98395204544067}, 'dominant_emotion': 'neutral'}\n",
      "Processed ffhq_0.png: Age: 23, Gender: Woman, Race: asian\n",
      "Processing ffhq_1.png\n"
     ]
    },
    {
     "name": "stderr",
     "output_type": "stream",
     "text": [
      "Action: emotion: 100%|██████████| 4/4 [00:02<00:00,  1.68it/s]\n"
     ]
    },
    {
     "name": "stdout",
     "output_type": "stream",
     "text": [
      "{'age': 25, 'region': {'x': 15, 'y': 21, 'w': 65, 'h': 65, 'left_eye': None, 'right_eye': None}, 'face_confidence': 0.93, 'gender': {'Woman': 22.984880208969116, 'Man': 77.01511979103088}, 'dominant_gender': 'Man', 'race': {'asian': 10.849407863546356, 'indian': 9.673383495018898, 'black': 72.48042493825255, 'white': 0.16040652574229547, 'middle eastern': 0.04743163573672005, 'latino hispanic': 6.788946007364513}, 'dominant_race': 'black', 'emotion': {'angry': 0.38208893965929747, 'disgust': 7.796892305123038e-05, 'fear': 0.8751977235078812, 'happy': 26.6585111618042, 'sad': 6.87774196267128, 'surprise': 0.014224533515516669, 'neutral': 65.19215703010559}, 'dominant_emotion': 'neutral'}\n",
      "Processed ffhq_1.png: Age: 25, Gender: Man, Race: black\n",
      "Processing ffhq_10.png\n"
     ]
    },
    {
     "name": "stderr",
     "output_type": "stream",
     "text": [
      "Action: emotion: 100%|██████████| 4/4 [00:02<00:00,  1.88it/s]\n"
     ]
    },
    {
     "name": "stdout",
     "output_type": "stream",
     "text": [
      "{'age': 25, 'region': {'x': 16, 'y': 21, 'w': 62, 'h': 62, 'left_eye': None, 'right_eye': None}, 'face_confidence': 0.92, 'gender': {'Woman': 15.628300607204437, 'Man': 84.37169790267944}, 'dominant_gender': 'Man', 'race': {'asian': 26.45732918127353, 'indian': 6.294241177692483, 'black': 2.818897162014077, 'white': 28.88977401791656, 'middle eastern': 11.403284901576335, 'latino hispanic': 24.13646573641692}, 'dominant_race': 'white', 'emotion': {'angry': 57.6278363244436, 'disgust': 0.026829478300257222, 'fear': 1.4427754025325419, 'happy': 0.19326143653013925, 'sad': 37.68948541220936, 'surprise': 0.005342119357102214, 'neutral': 3.014470443992045}, 'dominant_emotion': 'angry'}\n",
      "Processed ffhq_10.png: Age: 25, Gender: Man, Race: white\n",
      "Processing ffhq_100.png\n"
     ]
    },
    {
     "name": "stderr",
     "output_type": "stream",
     "text": [
      "Action: emotion: 100%|██████████| 4/4 [00:02<00:00,  1.71it/s]\n"
     ]
    },
    {
     "name": "stdout",
     "output_type": "stream",
     "text": [
      "{'age': 27, 'region': {'x': 18, 'y': 22, 'w': 61, 'h': 61, 'left_eye': None, 'right_eye': None}, 'face_confidence': 0.94, 'gender': {'Woman': 0.029293401166796684, 'Man': 99.9707043170929}, 'dominant_gender': 'Man', 'race': {'asian': 99.99591708158952, 'indian': 2.0848616876569355e-05, 'black': 1.818196257567704e-08, 'white': 0.001234889969900677, 'middle eastern': 5.272306239428632e-08, 'latino hispanic': 0.0028289863488684653}, 'dominant_race': 'asian', 'emotion': {'angry': 1.1476231520646252e-05, 'disgust': 1.1098028962833184e-13, 'fear': 0.00162370615726104, 'happy': 0.0019134340618620627, 'sad': 0.0949978712014854, 'surprise': 0.00028086594738852, 'neutral': 99.9011754989624}, 'dominant_emotion': 'neutral'}\n",
      "Processed ffhq_100.png: Age: 27, Gender: Man, Race: asian\n",
      "Processing ffhq_1000.png\n"
     ]
    },
    {
     "name": "stderr",
     "output_type": "stream",
     "text": [
      "Action: emotion: 100%|██████████| 4/4 [00:02<00:00,  1.86it/s]\n"
     ]
    },
    {
     "name": "stdout",
     "output_type": "stream",
     "text": [
      "{'age': 32, 'region': {'x': 16, 'y': 21, 'w': 66, 'h': 66, 'left_eye': None, 'right_eye': None}, 'face_confidence': 0.92, 'gender': {'Woman': 2.1763246138561954e-05, 'Man': 99.99997615814209}, 'dominant_gender': 'Man', 'race': {'asian': 3.3378590587050184e-09, 'indian': 6.4986889721642375e-06, 'black': 8.89867440544904e-11, 'white': 98.96376710482248, 'middle eastern': 1.0160829826145736, 'latino hispanic': 0.020144620030435777}, 'dominant_race': 'white', 'emotion': {'angry': 0.0909874914214015, 'disgust': 3.9778224117381633e-10, 'fear': 0.0025986477339756675, 'happy': 66.85158610343933, 'sad': 0.004952197923557833, 'surprise': 0.0008470708962704521, 'neutral': 33.04903209209442}, 'dominant_emotion': 'happy'}\n",
      "Processed ffhq_1000.png: Age: 32, Gender: Man, Race: white\n",
      "Analysis completed! Results saved to face_analysis_results_neutral.csv\n",
      "Processing image0000013.jpg\n"
     ]
    },
    {
     "name": "stderr",
     "output_type": "stream",
     "text": [
      "Action: emotion: 100%|██████████| 4/4 [00:02<00:00,  1.65it/s]\n"
     ]
    },
    {
     "name": "stdout",
     "output_type": "stream",
     "text": [
      "{'age': 52, 'region': {'x': 10, 'y': 11, 'w': 75, 'h': 75, 'left_eye': None, 'right_eye': None}, 'face_confidence': 0.93, 'gender': {'Woman': 0.30529682990163565, 'Man': 99.69469904899597}, 'dominant_gender': 'Man', 'race': {'asian': 69.41660642623901, 'indian': 3.6014750599861145, 'black': 0.8637174032628536, 'white': 6.4461849629879, 'middle eastern': 1.7030619084835052, 'latino hispanic': 17.968958616256714}, 'dominant_race': 'asian', 'emotion': {'angry': 6.576006859540939, 'disgust': 2.7927690000005556e-11, 'fear': 0.21978686563670635, 'happy': 7.631747881223228e-11, 'sad': 92.83230900764465, 'surprise': 1.0764457103462632e-07, 'neutral': 0.37189589347690344}, 'dominant_emotion': 'sad'}\n",
      "Processed image0000013.jpg: Age: 52, Gender: Man, Race: asian\n",
      "Processing image0000027.jpg\n"
     ]
    },
    {
     "name": "stderr",
     "output_type": "stream",
     "text": [
      "Action: emotion: 100%|██████████| 4/4 [00:03<00:00,  1.33it/s]\n"
     ]
    },
    {
     "name": "stdout",
     "output_type": "stream",
     "text": [
      "{'age': 23, 'region': {'x': 11, 'y': 12, 'w': 74, 'h': 74, 'left_eye': None, 'right_eye': None}, 'face_confidence': 0.9, 'gender': {'Woman': 0.00019294720914331265, 'Man': 99.99980926513672}, 'dominant_gender': 'Man', 'race': {'asian': 3.5017862915992737, 'indian': 0.09421240538358688, 'black': 96.25042676925659, 'white': 0.002974411108880304, 'middle eastern': 0.0005447749117593048, 'latino hispanic': 0.15005911700427532}, 'dominant_race': 'black', 'emotion': {'angry': 27.078288793563843, 'disgust': 0.0011793132216553204, 'fear': 1.4778563752770424, 'happy': 0.03988636890426278, 'sad': 54.72229719161987, 'surprise': 0.018164089124184102, 'neutral': 16.66233241558075}, 'dominant_emotion': 'sad'}\n",
      "Processed image0000027.jpg: Age: 23, Gender: Man, Race: black\n",
      "Processing image0000028.jpg\n"
     ]
    },
    {
     "name": "stderr",
     "output_type": "stream",
     "text": [
      "Action: emotion: 100%|██████████| 4/4 [00:01<00:00,  2.12it/s]\n"
     ]
    },
    {
     "name": "stdout",
     "output_type": "stream",
     "text": [
      "{'age': 35, 'region': {'x': 14, 'y': 11, 'w': 71, 'h': 71, 'left_eye': None, 'right_eye': None}, 'face_confidence': 0.95, 'gender': {'Woman': 0.006880170985823497, 'Man': 99.99312162399292}, 'dominant_gender': 'Man', 'race': {'asian': 1.5509532764554024, 'indian': 6.084057688713074, 'black': 0.3976995125412941, 'white': 29.97376322746277, 'middle eastern': 25.2819687128067, 'latino hispanic': 36.71156167984009}, 'dominant_race': 'latino hispanic', 'emotion': {'angry': 10.926229506731033, 'disgust': 0.003598975672503002, 'fear': 13.303348422050476, 'happy': 0.0834078062325716, 'sad': 52.50350832939148, 'surprise': 0.011087634629802778, 'neutral': 23.16882610321045}, 'dominant_emotion': 'sad'}\n",
      "Processed image0000028.jpg: Age: 35, Gender: Man, Race: latino hispanic\n",
      "Processing image0000047.jpg\n"
     ]
    },
    {
     "name": "stderr",
     "output_type": "stream",
     "text": [
      "Action: emotion: 100%|██████████| 4/4 [00:02<00:00,  1.93it/s]\n"
     ]
    },
    {
     "name": "stdout",
     "output_type": "stream",
     "text": [
      "{'age': 29, 'region': {'x': 11, 'y': 11, 'w': 76, 'h': 76, 'left_eye': None, 'right_eye': None}, 'face_confidence': 0.92, 'gender': {'Woman': 0.03905027988366783, 'Man': 99.96095299720764}, 'dominant_gender': 'Man', 'race': {'asian': 0.2586179878562689, 'indian': 0.25452838744968176, 'black': 0.028563299565576017, 'white': 75.87137818336487, 'middle eastern': 7.827712595462799, 'latino hispanic': 15.759199857711792}, 'dominant_race': 'white', 'emotion': {'angry': 4.434687536042186, 'disgust': 0.053782985491781565, 'fear': 58.238164081464056, 'happy': 0.013549508810665984, 'sad': 34.91279988961219, 'surprise': 0.34172073646460394, 'neutral': 2.0053028392972254}, 'dominant_emotion': 'fear'}\n",
      "Processed image0000047.jpg: Age: 29, Gender: Man, Race: white\n",
      "Processing image0000073.jpg\n"
     ]
    },
    {
     "name": "stderr",
     "output_type": "stream",
     "text": [
      "Action: emotion: 100%|██████████| 4/4 [00:02<00:00,  1.93it/s]\n"
     ]
    },
    {
     "name": "stdout",
     "output_type": "stream",
     "text": [
      "{'age': 50, 'region': {'x': 0, 'y': 0, 'w': 95, 'h': 95, 'left_eye': None, 'right_eye': None}, 'face_confidence': 0, 'gender': {'Woman': 99.29017424583435, 'Man': 0.709824962541461}, 'dominant_gender': 'Woman', 'race': {'asian': 8.597404642497148e-05, 'indian': 3.571337999253579e-05, 'black': 5.529197329220367e-07, 'white': 99.83195664501707, 'middle eastern': 0.06560342535633738, 'latino hispanic': 0.10231451541533883}, 'dominant_race': 'white', 'emotion': {'angry': 0.025989394634962082, 'disgust': 8.012385344774702e-13, 'fear': 1.5694666899435106e-05, 'happy': 0.00690789456712082, 'sad': 0.05224965279921889, 'surprise': 4.653922758279805e-06, 'neutral': 99.91483688354492}, 'dominant_emotion': 'neutral'}\n",
      "Processed image0000073.jpg: Age: 50, Gender: Woman, Race: white\n",
      "Analysis completed! Results saved to face_analysis_results_sad.csv\n",
      "Processing ffhq_1.png\n"
     ]
    },
    {
     "name": "stderr",
     "output_type": "stream",
     "text": [
      "Action: emotion: 100%|██████████| 4/4 [00:03<00:00,  1.25it/s]\n"
     ]
    },
    {
     "name": "stdout",
     "output_type": "stream",
     "text": [
      "{'age': 33, 'region': {'x': 13, 'y': 18, 'w': 68, 'h': 68, 'left_eye': None, 'right_eye': None}, 'face_confidence': 0.91, 'gender': {'Woman': 0.03365462180227041, 'Man': 99.96634721755981}, 'dominant_gender': 'Man', 'race': {'asian': 2.2611111402511597, 'indian': 7.012645900249481, 'black': 0.5369404796510935, 'white': 36.96611523628235, 'middle eastern': 26.264840364456177, 'latino hispanic': 26.958343386650085}, 'dominant_race': 'white', 'emotion': {'angry': 10.943005979061127, 'disgust': 0.0044903845264343545, 'fear': 49.86075162887573, 'happy': 1.7759406939148903, 'sad': 35.15782058238983, 'surprise': 0.38797922898083925, 'neutral': 1.8700161948800087}, 'dominant_emotion': 'fear'}\n",
      "Processed ffhq_1.png: Age: 33, Gender: Man, Race: white\n",
      "Processing ffhq_10.png\n"
     ]
    },
    {
     "name": "stderr",
     "output_type": "stream",
     "text": [
      "Action: emotion: 100%|██████████| 4/4 [00:03<00:00,  1.29it/s]\n"
     ]
    },
    {
     "name": "stdout",
     "output_type": "stream",
     "text": [
      "{'age': 23, 'region': {'x': 13, 'y': 21, 'w': 67, 'h': 67, 'left_eye': None, 'right_eye': None}, 'face_confidence': 0.91, 'gender': {'Woman': 0.483965128660202, 'Man': 99.51604008674622}, 'dominant_gender': 'Man', 'race': {'asian': 3.5330191254615784, 'indian': 4.6009257435798645, 'black': 0.5617519374936819, 'white': 30.829644203186035, 'middle eastern': 28.252899646759033, 'latino hispanic': 32.22176134586334}, 'dominant_race': 'latino hispanic', 'emotion': {'angry': 4.3920120979554715, 'disgust': 0.0036580610319421683, 'fear': 26.079206232977285, 'happy': 0.14823592220162882, 'sad': 0.10101597892588252, 'surprise': 69.22410543108614, 'neutral': 0.05176552530656906}, 'dominant_emotion': 'surprise'}\n",
      "Processed ffhq_10.png: Age: 23, Gender: Man, Race: latino hispanic\n",
      "Processing ffhq_100.png\n"
     ]
    },
    {
     "name": "stderr",
     "output_type": "stream",
     "text": [
      "Action: emotion: 100%|██████████| 4/4 [00:02<00:00,  1.71it/s]\n"
     ]
    },
    {
     "name": "stdout",
     "output_type": "stream",
     "text": [
      "{'age': 33, 'region': {'x': 14, 'y': 18, 'w': 69, 'h': 69, 'left_eye': None, 'right_eye': None}, 'face_confidence': 0.93, 'gender': {'Woman': 0.011345550592523068, 'Man': 99.98865127563477}, 'dominant_gender': 'Man', 'race': {'asian': 0.0001393060074406094, 'indian': 0.19136785995215178, 'black': 0.0002673141352715902, 'white': 18.437503278255463, 'middle eastern': 79.30517792701721, 'latino hispanic': 2.0655471831560135}, 'dominant_race': 'middle eastern', 'emotion': {'angry': 0.025336515737266287, 'disgust': 1.1842389997278016e-06, 'fear': 0.46316313524026487, 'happy': 79.63992831944992, 'sad': 0.024535290147418686, 'surprise': 19.28348060151819, 'neutral': 0.5635587368791543}, 'dominant_emotion': 'happy'}\n",
      "Processed ffhq_100.png: Age: 33, Gender: Man, Race: middle eastern\n",
      "Processing ffhq_101.png\n"
     ]
    },
    {
     "name": "stderr",
     "output_type": "stream",
     "text": [
      "Action: emotion: 100%|██████████| 4/4 [00:01<00:00,  2.03it/s]\n"
     ]
    },
    {
     "name": "stdout",
     "output_type": "stream",
     "text": [
      "{'age': 40, 'region': {'x': 0, 'y': 0, 'w': 95, 'h': 95, 'left_eye': None, 'right_eye': None}, 'face_confidence': 0, 'gender': {'Woman': 96.19251489639282, 'Man': 3.807484731078148}, 'dominant_gender': 'Woman', 'race': {'asian': 0.015646563088763575, 'indian': 0.02022341600488615, 'black': 8.489908953187611e-05, 'white': 97.0880087718974, 'middle eastern': 0.9981007573724696, 'latino hispanic': 1.877942160122652}, 'dominant_race': 'white', 'emotion': {'angry': 5.193264037370682, 'disgust': 0.0020652820239774883, 'fear': 68.87991428375244, 'happy': 1.0638900101184845, 'sad': 8.800894021987915, 'surprise': 15.80701619386673, 'neutral': 0.25295980740338564}, 'dominant_emotion': 'fear'}\n",
      "Processed ffhq_101.png: Age: 40, Gender: Woman, Race: white\n",
      "Processing ffhq_102.png\n"
     ]
    },
    {
     "name": "stderr",
     "output_type": "stream",
     "text": [
      "Action: emotion: 100%|██████████| 4/4 [00:02<00:00,  1.88it/s]\n"
     ]
    },
    {
     "name": "stdout",
     "output_type": "stream",
     "text": [
      "{'age': 28, 'region': {'x': 20, 'y': 21, 'w': 59, 'h': 59, 'left_eye': None, 'right_eye': None}, 'face_confidence': 0.93, 'gender': {'Woman': 80.15469312667847, 'Man': 19.845306873321533}, 'dominant_gender': 'Woman', 'race': {'asian': 99.76609945297241, 'indian': 0.020519828831311315, 'black': 0.0001608895786375797, 'white': 0.049494334962219, 'middle eastern': 0.00012424594615367823, 'latino hispanic': 0.16360138542950153}, 'dominant_race': 'asian', 'emotion': {'angry': 0.0010326381631557294, 'disgust': 2.1973731382660228e-11, 'fear': 1.020922665800015, 'happy': 2.7269926965493082e-05, 'sad': 0.00042449117046949446, 'surprise': 98.97754782304453, 'neutral': 4.59856521626677e-05}, 'dominant_emotion': 'surprise'}\n",
      "Processed ffhq_102.png: Age: 28, Gender: Woman, Race: asian\n",
      "Analysis completed! Results saved to face_analysis_results_surprise.csv\n",
      "Processing ffhq_1.png\n"
     ]
    },
    {
     "name": "stderr",
     "output_type": "stream",
     "text": [
      "Action: emotion: 100%|██████████| 4/4 [00:01<00:00,  2.21it/s]\n"
     ]
    },
    {
     "name": "stdout",
     "output_type": "stream",
     "text": [
      "{'age': 31, 'region': {'x': 13, 'y': 19, 'w': 69, 'h': 69, 'left_eye': None, 'right_eye': None}, 'face_confidence': 0.92, 'gender': {'Woman': 2.9353790864661278e-05, 'Man': 99.99997615814209}, 'dominant_gender': 'Man', 'race': {'asian': 7.559196324447015e-09, 'indian': 6.125262519418584e-07, 'black': 4.875956843147788e-10, 'white': 99.91025924682617, 'middle eastern': 0.0758532143663615, 'latino hispanic': 0.013885034422855824}, 'dominant_race': 'white', 'emotion': {'angry': 3.500299364346228, 'disgust': 0.00048268319154260613, 'fear': 0.8738230503394038, 'happy': 0.03368834932898577, 'sad': 14.863761655316452, 'surprise': 0.003988225454461229, 'neutral': 80.72395805859315}, 'dominant_emotion': 'neutral'}\n",
      "Processed ffhq_1.png: Age: 31, Gender: Man, Race: white\n",
      "Processing ffhq_10.png\n"
     ]
    },
    {
     "name": "stderr",
     "output_type": "stream",
     "text": [
      "Action: emotion: 100%|██████████| 4/4 [00:02<00:00,  1.59it/s]\n"
     ]
    },
    {
     "name": "stdout",
     "output_type": "stream",
     "text": [
      "{'age': 32, 'region': {'x': 10, 'y': 14, 'w': 80, 'h': 80, 'left_eye': None, 'right_eye': None}, 'face_confidence': 0.91, 'gender': {'Woman': 99.39897060394287, 'Man': 0.6010327022522688}, 'dominant_gender': 'Woman', 'race': {'asian': 2.966657820839622, 'indian': 4.343839507560672, 'black': 0.31025469276364953, 'white': 45.111068500407754, 'middle eastern': 31.67311628736452, 'latino hispanic': 15.595068406470824}, 'dominant_race': 'white', 'emotion': {'angry': 29.566325519461962, 'disgust': 0.13826898890474373, 'fear': 11.78414519334705, 'happy': 0.03785803790475654, 'sad': 55.89229201628518, 'surprise': 0.5495464756814525, 'neutral': 2.0315652061441662}, 'dominant_emotion': 'sad'}\n",
      "Processed ffhq_10.png: Age: 32, Gender: Woman, Race: white\n",
      "Processing ffhq_100.png\n"
     ]
    },
    {
     "name": "stderr",
     "output_type": "stream",
     "text": [
      "Action: emotion: 100%|██████████| 4/4 [00:03<00:00,  1.22it/s]\n"
     ]
    },
    {
     "name": "stdout",
     "output_type": "stream",
     "text": [
      "{'age': 29, 'region': {'x': 17, 'y': 21, 'w': 64, 'h': 64, 'left_eye': None, 'right_eye': None}, 'face_confidence': 0.97, 'gender': {'Woman': 2.8784865513443947, 'Man': 97.12150692939758}, 'dominant_gender': 'Man', 'race': {'asian': 5.493470653891563, 'indian': 2.5714000687003136, 'black': 0.5321678705513477, 'white': 50.06115436553955, 'middle eastern': 18.14405769109726, 'latino hispanic': 23.19774627685547}, 'dominant_race': 'white', 'emotion': {'angry': 0.4625236615538597, 'disgust': 0.00648010172881186, 'fear': 48.50068688392639, 'happy': 9.737298637628555, 'sad': 34.368500113487244, 'surprise': 2.8305232524871826, 'neutral': 4.0939923375844955}, 'dominant_emotion': 'fear'}\n",
      "Processed ffhq_100.png: Age: 29, Gender: Man, Race: white\n",
      "Processing ffhq_101.png\n"
     ]
    },
    {
     "name": "stderr",
     "output_type": "stream",
     "text": [
      "Action: emotion: 100%|██████████| 4/4 [00:02<00:00,  1.59it/s]\n"
     ]
    },
    {
     "name": "stdout",
     "output_type": "stream",
     "text": [
      "{'age': 34, 'region': {'x': 12, 'y': 15, 'w': 74, 'h': 74, 'left_eye': None, 'right_eye': None}, 'face_confidence': 0.91, 'gender': {'Woman': 98.25909733772278, 'Man': 1.740904338657856}, 'dominant_gender': 'Woman', 'race': {'asian': 0.03569094036633166, 'indian': 0.14876260843203118, 'black': 0.0014855965649622307, 'white': 84.98878985576569, 'middle eastern': 10.973368494115382, 'latino hispanic': 3.851903459543196}, 'dominant_race': 'white', 'emotion': {'angry': 95.96875285916047, 'disgust': 0.07885231058723095, 'fear': 1.48465893698686, 'happy': 0.039395503137551434, 'sad': 1.0129786700295609, 'surprise': 1.3563441921081658, 'neutral': 0.059020773067445936}, 'dominant_emotion': 'angry'}\n",
      "Processed ffhq_101.png: Age: 34, Gender: Woman, Race: white\n",
      "Processing ffhq_102.png\n"
     ]
    },
    {
     "name": "stderr",
     "output_type": "stream",
     "text": [
      "Action: emotion: 100%|██████████| 4/4 [00:03<00:00,  1.31it/s]"
     ]
    },
    {
     "name": "stdout",
     "output_type": "stream",
     "text": [
      "{'age': 27, 'region': {'x': 15, 'y': 19, 'w': 67, 'h': 67, 'left_eye': None, 'right_eye': None}, 'face_confidence': 0.93, 'gender': {'Woman': 0.6328411865979433, 'Man': 99.36715364456177}, 'dominant_gender': 'Man', 'race': {'asian': 0.4082554951310158, 'indian': 0.1493918476626277, 'black': 0.008192092354875058, 'white': 94.24169659614563, 'middle eastern': 2.101375162601471, 'latino hispanic': 3.091091103851795}, 'dominant_race': 'white', 'emotion': {'angry': 0.06436870316974819, 'disgust': 5.5284699040925034e-08, 'fear': 0.02690625551622361, 'happy': 0.0038430680433521047, 'sad': 0.1588952844031155, 'surprise': 0.00037672073176509, 'neutral': 99.74561333656311}, 'dominant_emotion': 'neutral'}\n",
      "Processed ffhq_102.png: Age: 27, Gender: Man, Race: white\n",
      "Analysis completed! Results saved to face_analysis_results_contempt.csv\n"
     ]
    },
    {
     "name": "stderr",
     "output_type": "stream",
     "text": [
      "\n"
     ]
    }
   ],
   "source": [
    "def analyze_faces_in_directory(directory, emotion_folder):\n",
    "    # Create a DataFrame to store the analysis results\n",
    "    results_df = pd.DataFrame(columns=[\"Image\", \"Age\", \"Gender\", \"Race\", \"Emotion\"])\n",
    "    results = []\n",
    "\n",
    "    # Loop through all files in the directory\n",
    "    for filename in os.listdir(directory)[0:5]:\n",
    "        if filename.endswith(\".jpg\") or filename.endswith(\".png\"):  # Add more extensions if needed\n",
    "            file_path = os.path.join(directory, filename)\n",
    "            try:\n",
    "                # Analyze the face in the image with enforce_detection=False\n",
    "                print(f\"Processing {filename}\")\n",
    "                analysis = DeepFace.analyze(img_path=file_path, actions=['age', 'gender', 'race', 'emotion'], enforce_detection=False)\n",
    "\n",
    "                # DeepFace returns a list, so access the first dictionary in the list\n",
    "                analysis = analysis[0]\n",
    "\n",
    "                # Extract data from the analysis dictionary\n",
    "                \n",
    "                #age = analysis.get('age', 'N/A')  # Use .get() to handle missing keys\n",
    "                #gender = analysis.get('dominant_gender', 'N/A')  # Correct key for gender\n",
    "                #race = analysis.get('dominant_race', 'N/A')  # Correct key for race\n",
    "                #emotion = analysis.get('dominant_emotion', 'N/A')  # Correct key for emotion\n",
    "                #print(analysis)\n",
    "\n",
    "                result_dict = {\n",
    "                    \"Image\": f\"{emotion_folder}_-_{filename}\",\n",
    "                    \"Age\": analysis.get('age', 'N/A'),\n",
    "                    \"Gender\": analysis.get('dominant_gender', 'N/A'),\n",
    "                    \"Race\": analysis.get('dominant_race', 'N/A'),\n",
    "                    \"Emotion\": analysis.get('dominant_emotion', 'N/A')\n",
    "                }\n",
    "                \n",
    "                # Append dictionary to results list\n",
    "                results.append(result_dict)\n",
    "\n",
    "                # Print the results for the current image\n",
    "                # print(f\"Processed {filename}: Age: {age}, Gender: {gender}, Race: {race}\")\n",
    "\n",
    "            except Exception as e:\n",
    "                # Handle the error gracefully and continue processing\n",
    "                print(f\"Error processing {filename}: {e}\")\n",
    "                continue\n",
    "\n",
    "    # Save results to CSV for further use\n",
    "    # Convert results list to DataFrame only at the end\n",
    "    if results:  # Check if we have any results\n",
    "        results_df = pd.DataFrame(results)\n",
    "        output_file = f'face_analysis_results_{emotion_folder}.csv'\n",
    "        results_df.to_csv(output_file, index=False)\n",
    "        print(f\"Analysis completed! Results saved to {output_file}\")\n",
    "    else:\n",
    "        print(\"No results to save!\")\n",
    "\n",
    "\n",
    "# Example usage\n",
    "directory_path = 'datasets/AffectNet/Test'\n",
    "emotion_folders = ['anger', 'disgust', 'fear', 'happy', 'neutral', 'sad', 'surprise', 'contempt']\n",
    "for e in emotion_folders:\n",
    "    analyze_faces_in_directory(f\"{directory_path}/{e}\", e)  \n"
   ]
  },
  {
   "cell_type": "code",
   "execution_count": null,
   "id": "2a23d46a",
   "metadata": {},
   "outputs": [],
   "source": [
    "Test_data = pd.read_csv('face_analysis_results.csv')\n",
    "Test_data"
   ]
  },
  {
   "cell_type": "code",
   "execution_count": null,
   "id": "7b8a7a9b",
   "metadata": {},
   "outputs": [],
   "source": [
    "import os\n",
    "import pandas as pd\n",
    "import matplotlib.pyplot as plt\n",
    "from PIL import Image\n",
    "\n",
    "def display_images_with_labels(df, image_directory):\n",
    "    # Number of images to display\n",
    "    num_images = len(df)\n",
    "    \n",
    "    # Create a 3x2 grid\n",
    "    fig, axes = plt.subplots(3, 2, figsize=(8, 8))\n",
    "    \n",
    "    # Flatten the axes array for easier indexing\n",
    "    axes = axes.flatten()\n",
    "    \n",
    "    for i, (index, row) in enumerate(df.iterrows()):\n",
    "        if i >= 6:  # Show only 6 images max (for the 3x2 grid)\n",
    "            break\n",
    "        \n",
    "        image_path = os.path.join(image_directory, row['Image'])\n",
    "        \n",
    "        # Check if the image file exists\n",
    "        if os.path.exists(image_path):\n",
    "            img = Image.open(image_path)\n",
    "            axes[i].imshow(img)\n",
    "            axes[i].axis('off')\n",
    "            \n",
    "            # Add label for the image\n",
    "            label = f\"Age: {row['Age']}\\nGender: {row['Gender']}\\nRace: {row['Race']}\"\n",
    "            axes[i].set_title(label, fontsize=14)\n",
    "        else:\n",
    "            # If the image doesn't exist, show a placeholder\n",
    "            axes[i].text(0.5, 0.5, 'Image not found', horizontalalignment='center', verticalalignment='center', fontsize=12)\n",
    "            axes[i].axis('off')\n",
    "    \n",
    "    # Adjust layout to make space for titles\n",
    "    plt.tight_layout()\n",
    "    plt.show()\n",
    "\n",
    "\n",
    "# Replace with your actual image directory\n",
    "image_directory = 'data/archive/AffectNet/Train/_test'\n",
    "\n",
    "# Display the images with labels\n",
    "display_images_with_labels(Test_data, image_directory)"
   ]
  },
  {
   "cell_type": "code",
   "execution_count": null,
   "id": "7f665107",
   "metadata": {},
   "outputs": [],
   "source": [
    "# Function to add an Age Group column\n",
    "def add_age_group(df):\n",
    "    # Define a function to assign age groups\n",
    "    def get_age_group(age):\n",
    "        lower_bound = (age // 10) * 10  # Get the lower bound of the age group\n",
    "        upper_bound = lower_bound + 9  # The upper bound\n",
    "        return f\"{lower_bound}-{upper_bound}\"\n",
    "\n",
    "    # Apply the function to the Age column to create the Age Group column\n",
    "    df['Age Group'] = df['Age'].apply(get_age_group)\n",
    "    return df\n",
    "df_with_age_group = add_age_group(Test_data)\n",
    "\n",
    "df_with_age_group"
   ]
  },
  {
   "cell_type": "code",
   "execution_count": null,
   "id": "e2264ad4",
   "metadata": {},
   "outputs": [],
   "source": []
  }
 ],
 "metadata": {
  "kernelspec": {
   "display_name": "Python 3",
   "language": "python",
   "name": "python3"
  },
  "language_info": {
   "codemirror_mode": {
    "name": "ipython",
    "version": 3
   },
   "file_extension": ".py",
   "mimetype": "text/x-python",
   "name": "python",
   "nbconvert_exporter": "python",
   "pygments_lexer": "ipython3",
   "version": "3.9.18"
  }
 },
 "nbformat": 4,
 "nbformat_minor": 5
}
