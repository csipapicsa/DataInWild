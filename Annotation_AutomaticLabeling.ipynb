{
 "cells": [
  {
   "cell_type": "code",
   "execution_count": 1,
   "id": "fabd9ded",
   "metadata": {},
   "outputs": [
    {
     "name": "stdout",
     "output_type": "stream",
     "text": [
      "WARNING:tensorflow:From c:\\Program Files\\Python312\\Lib\\site-packages\\tf_keras\\src\\losses.py:2976: The name tf.losses.sparse_softmax_cross_entropy is deprecated. Please use tf.compat.v1.losses.sparse_softmax_cross_entropy instead.\n",
      "\n"
     ]
    }
   ],
   "source": [
    "import os\n",
    "import pandas as pd\n",
    "# https://github.com/serengil/deepface\n",
    "from deepface import DeepFace\n",
    "import matplotlib.pyplot as plt\n",
    "from PIL import Image\n",
    "\n",
    "# https://github.com/serengil/deepface"
   ]
  },
  {
   "cell_type": "code",
   "execution_count": 14,
   "id": "409d815b",
   "metadata": {
    "scrolled": true
   },
   "outputs": [],
   "source": [
    "#analysis = DeepFace.analyze(img_path = 'data/archive/AffectNet/Train/anger/image0021846.jpg', actions = [\"age\", \"gender\", \"emotion\", \"race\"])\n",
    "#print(analysis)\n",
    "# actions = ['age', 'gender', 'race', 'emotion'],"
   ]
  },
  {
   "cell_type": "code",
   "execution_count": null,
   "id": "a8eb4bfb",
   "metadata": {},
   "outputs": [
    {
     "name": "stdout",
     "output_type": "stream",
     "text": [
      "Processing image0000006.jpg\n"
     ]
    },
    {
     "name": "stderr",
     "output_type": "stream",
     "text": [
      "Action: age:   0%|          | 0/4 [00:00<?, ?it/s]    "
     ]
    },
    {
     "name": "stdout",
     "output_type": "stream",
     "text": [
      "24-10-17 13:08:45 - age_model_weights.h5 will be downloaded...\n"
     ]
    },
    {
     "name": "stderr",
     "output_type": "stream",
     "text": [
      "Downloading...\n",
      "From: https://github.com/serengil/deepface_models/releases/download/v1.0/age_model_weights.h5\n",
      "To: C:\\Users\\Gergo Gyori\\.deepface\\weights\\age_model_weights.h5\n"
     ]
    }
   ],
   "source": [
    "def analyze_faces_in_directory(directory, emotion):\n",
    "    # Create a DataFrame to store the analysis results\n",
    "    results_df = pd.DataFrame(columns=[\"Image\", \"Age\", \"Gender\", \"Race\", \"Emotion\"])\n",
    "\n",
    "    # Loop through all files in the directory\n",
    "    for filename in os.listdir(directory):\n",
    "        if filename.endswith(\".jpg\") or filename.endswith(\".png\"):  # Add more extensions if needed\n",
    "            file_path = os.path.join(directory, filename)\n",
    "            try:\n",
    "                # Analyze the face in the image with enforce_detection=False\n",
    "                print(f\"Processing {filename}\")\n",
    "                analysis = DeepFace.analyze(img_path=file_path, actions=['age', 'gender', 'race', 'emotion'], enforce_detection=False)\n",
    "\n",
    "                # DeepFace returns a list, so access the first dictionary in the list\n",
    "                analysis = analysis[0]\n",
    "\n",
    "                # Extract data from the analysis dictionary\n",
    "                age = analysis.get('age', 'N/A')  # Use .get() to handle missing keys\n",
    "                gender = analysis.get('dominant_gender', 'N/A')  # Correct key for gender\n",
    "                race = analysis.get('dominant_race', 'N/A')  # Correct key for race\n",
    "                emotion = analysis.get('dominant_emotion', 'N/A')  # Correct key for emotion\n",
    "                print(analysis)\n",
    "\n",
    "                # Append results to the DataFrame\n",
    "                results_df = results_df.append({\"Image\": filename, \"Age\": age, \"Gender\": gender, \"Race\": race, \"Emotion\": emotion}, ignore_index=True)\n",
    "\n",
    "                # Print the results for the current image\n",
    "                print(f\"Processed {filename}: Age: {age}, Gender: {gender}, Race: {race}\")\n",
    "\n",
    "            except Exception as e:\n",
    "                # Handle the error gracefully and continue processing\n",
    "                print(f\"Error processing {filename}: {e}\")\n",
    "                continue\n",
    "\n",
    "    # Save results to CSV for further use\n",
    "    results_df.to_csv(f'face_analysis_results_{e}.csv', index=False)\n",
    "    print(\"Analysis completed! Results saved to face_analysis_results.csv.\")\n",
    "\n",
    "\n",
    "# Example usage\n",
    "directory_path = 'datasets/AffectNet/Test'\n",
    "emotion_folders = ['anger', 'disgust', 'fear', 'happy', 'neutral', 'sad', 'surprise', 'contempt']\n",
    "for e in emotion_folders:\n",
    "    analyze_faces_in_directory(f\"{directory_path}/{e}\", e)  \n"
   ]
  },
  {
   "cell_type": "code",
   "execution_count": null,
   "id": "2a23d46a",
   "metadata": {},
   "outputs": [],
   "source": [
    "Test_data = pd.read_csv('face_analysis_results.csv')\n",
    "Test_data"
   ]
  },
  {
   "cell_type": "code",
   "execution_count": null,
   "id": "7b8a7a9b",
   "metadata": {},
   "outputs": [],
   "source": [
    "import os\n",
    "import pandas as pd\n",
    "import matplotlib.pyplot as plt\n",
    "from PIL import Image\n",
    "\n",
    "def display_images_with_labels(df, image_directory):\n",
    "    # Number of images to display\n",
    "    num_images = len(df)\n",
    "    \n",
    "    # Create a 3x2 grid\n",
    "    fig, axes = plt.subplots(3, 2, figsize=(8, 8))\n",
    "    \n",
    "    # Flatten the axes array for easier indexing\n",
    "    axes = axes.flatten()\n",
    "    \n",
    "    for i, (index, row) in enumerate(df.iterrows()):\n",
    "        if i >= 6:  # Show only 6 images max (for the 3x2 grid)\n",
    "            break\n",
    "        \n",
    "        image_path = os.path.join(image_directory, row['Image'])\n",
    "        \n",
    "        # Check if the image file exists\n",
    "        if os.path.exists(image_path):\n",
    "            img = Image.open(image_path)\n",
    "            axes[i].imshow(img)\n",
    "            axes[i].axis('off')\n",
    "            \n",
    "            # Add label for the image\n",
    "            label = f\"Age: {row['Age']}\\nGender: {row['Gender']}\\nRace: {row['Race']}\"\n",
    "            axes[i].set_title(label, fontsize=14)\n",
    "        else:\n",
    "            # If the image doesn't exist, show a placeholder\n",
    "            axes[i].text(0.5, 0.5, 'Image not found', horizontalalignment='center', verticalalignment='center', fontsize=12)\n",
    "            axes[i].axis('off')\n",
    "    \n",
    "    # Adjust layout to make space for titles\n",
    "    plt.tight_layout()\n",
    "    plt.show()\n",
    "\n",
    "\n",
    "# Replace with your actual image directory\n",
    "image_directory = 'data/archive/AffectNet/Train/_test'\n",
    "\n",
    "# Display the images with labels\n",
    "display_images_with_labels(Test_data, image_directory)"
   ]
  },
  {
   "cell_type": "code",
   "execution_count": null,
   "id": "7f665107",
   "metadata": {},
   "outputs": [],
   "source": [
    "# Function to add an Age Group column\n",
    "def add_age_group(df):\n",
    "    # Define a function to assign age groups\n",
    "    def get_age_group(age):\n",
    "        lower_bound = (age // 10) * 10  # Get the lower bound of the age group\n",
    "        upper_bound = lower_bound + 9  # The upper bound\n",
    "        return f\"{lower_bound}-{upper_bound}\"\n",
    "\n",
    "    # Apply the function to the Age column to create the Age Group column\n",
    "    df['Age Group'] = df['Age'].apply(get_age_group)\n",
    "    return df\n",
    "df_with_age_group = add_age_group(Test_data)\n",
    "\n",
    "df_with_age_group"
   ]
  },
  {
   "cell_type": "code",
   "execution_count": null,
   "id": "e2264ad4",
   "metadata": {},
   "outputs": [],
   "source": []
  }
 ],
 "metadata": {
  "kernelspec": {
   "display_name": "Python 3",
   "language": "python",
   "name": "python3"
  },
  "language_info": {
   "codemirror_mode": {
    "name": "ipython",
    "version": 3
   },
   "file_extension": ".py",
   "mimetype": "text/x-python",
   "name": "python",
   "nbconvert_exporter": "python",
   "pygments_lexer": "ipython3",
   "version": "3.12.1"
  }
 },
 "nbformat": 4,
 "nbformat_minor": 5
}
