{
 "cells": [
  {
   "cell_type": "markdown",
   "metadata": {},
   "source": [
    "### Gergo test"
   ]
  },
  {
   "cell_type": "code",
   "execution_count": 1,
   "metadata": {},
   "outputs": [
    {
     "name": "stdout",
     "output_type": "stream",
     "text": [
      "Title: Deep learning for biological image classification\n",
      "DOI not found in metadata.\n"
     ]
    }
   ],
   "source": [
    "from scholarly import scholarly\n",
    "\n",
    "# Search for a paper by title (you can modify the search query)\n",
    "search_query = scholarly.search_pubs(\"Deep learning for image classification\")\n",
    "\n",
    "# Get the first search result\n",
    "paper = next(search_query)\n",
    "\n",
    "# Print the title and DOI\n",
    "print(\"Title:\", paper['bib']['title'])\n",
    "\n",
    "# Check if DOI exists in the metadata\n",
    "if 'pub_url' in paper['bib']:\n",
    "    print(\"DOI:\", paper['pub_url'])\n",
    "else:\n",
    "    print(\"DOI not found in metadata.\")"
   ]
  }
 ],
 "metadata": {
  "kernelspec": {
   "display_name": "Python 3",
   "language": "python",
   "name": "python3"
  },
  "language_info": {
   "codemirror_mode": {
    "name": "ipython",
    "version": 3
   },
   "file_extension": ".py",
   "mimetype": "text/x-python",
   "name": "python",
   "nbconvert_exporter": "python",
   "pygments_lexer": "ipython3",
   "version": "3.12.1"
  }
 },
 "nbformat": 4,
 "nbformat_minor": 2
}
